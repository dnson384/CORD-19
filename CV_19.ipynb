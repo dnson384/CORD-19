{
 "cells": [
  {
   "cell_type": "markdown",
   "metadata": {},
   "source": [
    "# __1. Import thư viện__"
   ]
  },
  {
   "cell_type": "code",
   "execution_count": 1,
   "metadata": {},
   "outputs": [],
   "source": [
    "# Import thư viện\n",
    "import pandas as pd\n",
    "import os\n",
    "\n",
    "import json\n",
    "import requests\n",
    "\n",
    "import concurrent.futures\n",
    "from concurrent.futures import ThreadPoolExecutor, as_completed\n",
    "\n",
    "from langdetect import detect, LangDetectException\n",
    "\n",
    "from datetime import datetime\n",
    "from nltk.corpus import stopwords\n",
    "from tqdm import tqdm\n",
    "tqdm.pandas()\n",
    "import re\n",
    "from collections import Counter\n",
    "\n",
    "import numpy as np\n",
    "\n",
    "import seaborn as sns\n",
    "import matplotlib.pyplot as plt"
   ]
  },
  {
   "cell_type": "markdown",
   "metadata": {},
   "source": [
    "# __2. Các hàm hỗ trợ__"
   ]
  },
  {
   "cell_type": "markdown",
   "metadata": {},
   "source": [
    "## Hàm đọc file json"
   ]
  },
  {
   "cell_type": "code",
   "execution_count": 2,
   "metadata": {},
   "outputs": [],
   "source": [
    "class FileReader:\n",
    "    def __init__(self, file_path, row):\n",
    "        with open(file_path, 'r') as file:\n",
    "            data = json.load(file)\n",
    "            self.ppid = data['paper_id']\n",
    "            self.body_text = '\\n'.join(dt['text'] for dt in data['body_text'])\n",
    "            self.abstract = '\\n'.join(dt['text'] for dt in data.get('abstract', [])) or row['abstract']\n",
    "            self.title = data.get('metadata', {}).get('title', None)\n",
    "            self.publish_time = row['publish_time']\n",
    "            self.doi = row['doi']"
   ]
  },
  {
   "cell_type": "markdown",
   "metadata": {},
   "source": [
    "## Hàm xử lý dữ liệu json"
   ]
  },
  {
   "cell_type": "code",
   "execution_count": 3,
   "metadata": {},
   "outputs": [],
   "source": [
    "def pdf_df(df: pd.DataFrame) -> pd.DataFrame:\n",
    "    filtered_df =  df[(df['sha'].apply(lambda x: isinstance(x, str))) & (df['pdf_json_files'].apply(lambda x: isinstance(x, str)))]\n",
    "    expanded_df = filtered_df.assign(\n",
    "        sha = filtered_df['sha'].str.split('; '),\n",
    "        pdf_json_files = filtered_df['pdf_json_files'].str.split('; ')\n",
    "    ).explode(['sha', 'pdf_json_files']).reset_index(drop=True)\n",
    "    return expanded_df\n",
    "\n",
    "def process_row(row):\n",
    "    dict_ = {'paper_id': [], 'title': [], 'abstract': [], 'body_text': [], 'publish_time': [], 'doi': []}\n",
    "    pdf_files = row['pdf_json_files'].split('; ')\n",
    "    for file in pdf_files:\n",
    "        if not os.path.exists(file):\n",
    "            continue\n",
    "        data = FileReader(file, row)\n",
    "        dict_['paper_id'].append(data.ppid)\n",
    "        dict_['title'].append(data.title)\n",
    "        dict_['abstract'].append(data.abstract)\n",
    "        dict_['body_text'].append(data.body_text)\n",
    "        dict_['publish_time'].append(data.publish_time)\n",
    "        dict_['doi'].append(data.doi)\n",
    "    return dict_\n",
    "\n",
    "def pdf_jsons_to_df(df: pd.DataFrame) -> pd.DataFrame:\n",
    "    df = pdf_df(df=df)\n",
    "    df.drop_duplicates(inplace=True)\n",
    "    all_dicts = []\n",
    "\n",
    "    with ThreadPoolExecutor() as executor:\n",
    "        futures = [executor.submit(process_row, row) for _, row in df.iterrows()]\n",
    "        for future in tqdm(as_completed(futures), total=len(futures), desc=\"Processing rows\"):\n",
    "            all_dicts.append(future.result())\n",
    "\n",
    "    # Combine results into a single DataFrame\n",
    "    dict_ = {\n",
    "        'paper_id': [], 'title': [], 'abstract': [], 'body_text': [], 'publish_time': [], 'doi': []\n",
    "    }\n",
    "    for d in all_dicts:\n",
    "        for key in dict_:\n",
    "            dict_[key].extend(d[key])\n",
    "\n",
    "    df_covid = pd.DataFrame(dict_, columns=['paper_id', 'title', 'abstract', 'body_text', 'publish_time', 'doi'])\n",
    "    return df_covid"
   ]
  },
  {
   "cell_type": "markdown",
   "metadata": {},
   "source": [
    "### Hàm xử lý dữ liệu pmc_json"
   ]
  },
  {
   "cell_type": "code",
   "execution_count": 4,
   "metadata": {},
   "outputs": [],
   "source": [
    "def pmc_df(df: pd.DataFrame) -> pd.DataFrame:\n",
    "    return df[(df['sha'].apply(lambda x: not isinstance(x, str))) & (df['pmc_json_files'].apply(lambda x: isinstance(x, str)))]\n",
    "\n",
    "def process_pmc_row(row):\n",
    "    dict_ = {'paper_id': [], 'title': [], 'abstract': [], 'body_text': [], 'publish_time': [], 'doi': []}\n",
    "    pmc_files = row['pmc_json_files'].split('; ')\n",
    "    for file in pmc_files:\n",
    "        if not os.path.exists(file):\n",
    "            continue\n",
    "        data = FileReader(file, row)\n",
    "        dict_['paper_id'].append(data.ppid)\n",
    "        dict_['title'].append(data.title)\n",
    "        dict_['abstract'].append(data.abstract)\n",
    "        dict_['body_text'].append(data.body_text)\n",
    "        dict_['publish_time'].append(data.publish_time)\n",
    "        dict_['doi'].append(data.doi)\n",
    "    return dict_\n",
    "\n",
    "def pmc_jsons_to_df(df: pd.DataFrame) -> pd.DataFrame:\n",
    "    df = pmc_df(df=df)\n",
    "    df.drop_duplicates(inplace=True)\n",
    "    all_dicts = []\n",
    "\n",
    "    with ThreadPoolExecutor() as executor:\n",
    "        futures = [executor.submit(process_pmc_row, row) for _, row in df.iterrows()]\n",
    "        for future in tqdm(as_completed(futures), total=len(futures), desc=\"Processing PMC rows\"):\n",
    "            all_dicts.append(future.result())\n",
    "\n",
    "    # Combine results into a single DataFrame\n",
    "    dict_ = {\n",
    "        'paper_id': [], 'title': [], 'abstract': [], 'body_text': [], 'publish_time': [], 'doi': []\n",
    "    }\n",
    "    for d in all_dicts:\n",
    "        for key in dict_:\n",
    "            dict_[key].extend(d[key])\n",
    "\n",
    "    df_covid = pd.DataFrame(dict_, columns=['paper_id', 'title', 'abstract', 'body_text', 'publish_time', 'doi'])\n",
    "    return df_covid"
   ]
  },
  {
   "cell_type": "markdown",
   "metadata": {},
   "source": [
    "## Hàm tìm ngôn ngữ của bài báo"
   ]
  },
  {
   "cell_type": "code",
   "execution_count": 5,
   "metadata": {},
   "outputs": [],
   "source": [
    "# Tối ưu hóa hàm detect_language\n",
    "def detect_language(row):\n",
    "    body_text = row['body_text']\n",
    "    if not isinstance(body_text, str) or len(body_text.strip()) == 0: \n",
    "        return 'unknown'  # Tránh xử lý những chuỗi rỗng\n",
    "    body_text = body_text[:500]  # Giới hạn số ký tự để xử lý nhanh hơn\n",
    "    try:\n",
    "        return detect(body_text)  # Phân tích ngôn ngữ từ 5000 ký tự đầu tiên\n",
    "    except LangDetectException:\n",
    "        return 'unknown'\n",
    "\n",
    "# Hàm xử lý song song với concurrent.futures\n",
    "def process_languages_parallel(df):\n",
    "    with concurrent.futures.ThreadPoolExecutor(max_workers=10) as executor:\n",
    "        # Sử dụng map để chạy song song hàm detect_language trên mỗi dòng\n",
    "        results = list(tqdm(executor.map(detect_language, [row for _, row in df.iterrows()]), total=len(df)))\n",
    "    # Gán kết quả vào cột 'language' trong dataframe\n",
    "    df['language'] = results\n",
    "    return df"
   ]
  },
  {
   "cell_type": "markdown",
   "metadata": {},
   "source": [
    "## Hàm truy cập vào doi"
   ]
  },
  {
   "cell_type": "code",
   "execution_count": 6,
   "metadata": {},
   "outputs": [],
   "source": [
    "def requests_doi(doi):\n",
    "    url = f\"https://api.crossref.org/works/{doi}\"\n",
    "    try:\n",
    "        response = requests.get(url, timeout=5)\n",
    "        if response.status_code == 200:\n",
    "            return response.json()\n",
    "        return None\n",
    "    except requests.RequestException:\n",
    "        return None\n",
    "\n",
    "def title_doi(doi):\n",
    "    data = requests_doi(doi)\n",
    "    if data:\n",
    "        if 'message' in data:\n",
    "            if 'title' in data['message']:\n",
    "                return data['message']['title'][0]\n",
    "    return None\n",
    "\n",
    "\n",
    "def title_doi_parallel(df):\n",
    "    with ThreadPoolExecutor(max_workers=5) as executor:\n",
    "        # Sử dụng map để chạy song song và theo dõi tiến độ bằng tqdm\n",
    "        results = list(tqdm(executor.map(title_doi, df['doi']), total=len(df)))\n",
    "    # Gán kết quả vào cột 'status_api' trong dataframe\n",
    "    df['title_doi'] = results\n",
    "    return df\n",
    "\n",
    "def check_doi(doi):\n",
    "    url = f\"https://api.crossref.org/works/{doi}\"\n",
    "    try:\n",
    "        response = requests.get(url, timeout=5)\n",
    "        if response.status_code == 200:\n",
    "            return True\n",
    "        return False\n",
    "    except requests.RequestException:\n",
    "        return False\n",
    "\n",
    "def check_doi_parallel(df):\n",
    "    with concurrent.futures.ThreadPoolExecutor(max_workers=5) as executor:\n",
    "        # Sử dụng map để chạy song song và theo dõi tiến độ bằng tqdm\n",
    "        results = list(tqdm(executor.map(check_doi, df['doi']), total=len(df), desc=\"Checking DOIs\"))\n",
    "    # Gán kết quả vào cột 'status_api' trong dataframe\n",
    "    df['status_api'] = results\n",
    "    return df"
   ]
  },
  {
   "cell_type": "markdown",
   "metadata": {},
   "source": [
    "## Hàm tính số lượng từ khoá của từng bài báo"
   ]
  },
  {
   "cell_type": "code",
   "execution_count": 15,
   "metadata": {},
   "outputs": [],
   "source": [
    "# Hàm làm sạch văn bản\n",
    "def clean_text(text):\n",
    "    if not isinstance(text, str):  # Kiểm tra nếu không phải chuỗi\n",
    "        return []\n",
    "    text = text.lower()\n",
    "    text = re.sub(r'[^\\w\\s]', '', text)  # Loại bỏ dấu câu\n",
    "    text = re.sub(r'\\d+', '', text)      # Loại bỏ số\n",
    "    return text.split()                  # Tách thành danh sách từ\n",
    "\n",
    "# Hàm đếm số từ khóa trong một bài báo\n",
    "def count_keywords_in_text(text, keywords):\n",
    "    text_words = clean_text(text)  # Làm sạch và tách từ\n",
    "    return {key: text_words.count(key) for key in keywords}\n",
    "\n",
    "# Hàm chính: xử lý song song theo nhóm 50 dòng\n",
    "def count_keywords_parallel(df, keywords):\n",
    "    def process_row(text):\n",
    "        return count_keywords_in_text(text, keywords)\n",
    "    with ThreadPoolExecutor(max_workers=10) as executor:\n",
    "        all_results = list(tqdm(executor.map(process_row, df['body_text']), total=len(df), desc=\"Counting keywords\"))\n",
    "    for key in keywords:\n",
    "        df[key] = [res[key] for res in all_results]\n",
    "    return df"
   ]
  },
  {
   "cell_type": "markdown",
   "metadata": {},
   "source": [
    "# __3. Lọc dữ liệu__"
   ]
  },
  {
   "cell_type": "markdown",
   "metadata": {},
   "source": [
    "## __Đọc dữ liệu__"
   ]
  },
  {
   "cell_type": "code",
   "execution_count": 8,
   "metadata": {},
   "outputs": [
    {
     "name": "stderr",
     "output_type": "stream",
     "text": [
      "C:\\Users\\dnson\\AppData\\Local\\Temp\\ipykernel_1696\\3694816371.py:1: DtypeWarning: Columns (1,4,5,6,13,14,15,16) have mixed types. Specify dtype option on import or set low_memory=False.\n",
      "  df = pd.read_csv('metadata.csv')\n"
     ]
    }
   ],
   "source": [
    "df = pd.read_csv('metadata.csv')\n",
    "df.drop(['cord_uid', 'source_x', 'pmcid', 'pubmed_id', 'license', 'authors', 'journal', 'mag_id', 'who_covidence_id', 'arxiv_id', 'url', 's2_id'], axis=1, inplace=True)"
   ]
  },
  {
   "cell_type": "code",
   "execution_count": 11,
   "metadata": {},
   "outputs": [
    {
     "data": {
      "text/plain": [
       "(1056660, 7)"
      ]
     },
     "execution_count": 11,
     "metadata": {},
     "output_type": "execute_result"
    }
   ],
   "source": [
    "df.shape"
   ]
  },
  {
   "cell_type": "code",
   "execution_count": 9,
   "metadata": {},
   "outputs": [
    {
     "data": {
      "text/plain": [
       "sha               682894\n",
       "title                503\n",
       "doi               399880\n",
       "abstract          235544\n",
       "publish_time        1814\n",
       "pdf_json_files    682894\n",
       "pmc_json_files    740918\n",
       "dtype: int64"
      ]
     },
     "execution_count": 9,
     "metadata": {},
     "output_type": "execute_result"
    }
   ],
   "source": [
    "df.isnull().sum()"
   ]
  },
  {
   "cell_type": "code",
   "execution_count": 10,
   "metadata": {},
   "outputs": [
    {
     "data": {
      "text/plain": [
       "np.int64(62604)"
      ]
     },
     "execution_count": 10,
     "metadata": {},
     "output_type": "execute_result"
    }
   ],
   "source": [
    "df.duplicated().sum()"
   ]
  },
  {
   "cell_type": "markdown",
   "metadata": {},
   "source": [
    "Vì dịch covid theo who chỉ có timeline từ 31-12-2019 đến 2022"
   ]
  },
  {
   "cell_type": "code",
   "execution_count": 6,
   "metadata": {},
   "outputs": [],
   "source": [
    "df = df[df['publish_time'].apply(lambda x: isinstance(x, str) and len(x) == 10)]\n",
    "df['publish_time'] = pd.to_datetime(df['publish_time'], errors='coerce')\n",
    "df = df[df['publish_time'].between('2020-01-01', '2022-12-31') | (df['publish_time'] == '2019-12-31')]"
   ]
  },
  {
   "cell_type": "markdown",
   "metadata": {},
   "source": [
    "### PDF"
   ]
  },
  {
   "cell_type": "code",
   "execution_count": 7,
   "metadata": {},
   "outputs": [
    {
     "name": "stderr",
     "output_type": "stream",
     "text": [
      "Processing rows: 100%|██████████| 352356/352356 [15:06<00:00, 388.61it/s] \n"
     ]
    }
   ],
   "source": [
    "df_pdf_covid = pdf_jsons_to_df(df)"
   ]
  },
  {
   "cell_type": "markdown",
   "metadata": {},
   "source": [
    "### PMC"
   ]
  },
  {
   "cell_type": "code",
   "execution_count": 12,
   "metadata": {},
   "outputs": [
    {
     "name": "stderr",
     "output_type": "stream",
     "text": [
      "C:\\Users\\dnson\\AppData\\Local\\Temp\\ipykernel_5852\\2140501006.py:21: SettingWithCopyWarning: \n",
      "A value is trying to be set on a copy of a slice from a DataFrame\n",
      "\n",
      "See the caveats in the documentation: https://pandas.pydata.org/pandas-docs/stable/user_guide/indexing.html#returning-a-view-versus-a-copy\n",
      "  df.drop_duplicates(inplace=True)\n",
      "Processing PMC rows: 100%|██████████| 14677/14677 [00:27<00:00, 534.09it/s]\n"
     ]
    }
   ],
   "source": [
    "df_pmc_covid = pmc_jsons_to_df(df)"
   ]
  },
  {
   "cell_type": "markdown",
   "metadata": {},
   "source": [
    "### Gộp pdf và pmc thành covid_data_raw"
   ]
  },
  {
   "cell_type": "code",
   "execution_count": 16,
   "metadata": {},
   "outputs": [],
   "source": [
    "covid_data_raw = pd.concat([df_pdf_covid, df_pmc_covid], ignore_index=True)\n",
    "covid_data_raw = covid_data_raw.drop_duplicates()"
   ]
  },
  {
   "cell_type": "markdown",
   "metadata": {},
   "source": [
    "### Chuyển từ df sang csv để lưu"
   ]
  },
  {
   "cell_type": "code",
   "execution_count": 19,
   "metadata": {},
   "outputs": [],
   "source": [
    "covid_data_raw.to_csv('./CSV/covid_data_raw.csv', index=False, encoding='utf-8')"
   ]
  },
  {
   "cell_type": "code",
   "execution_count": 3,
   "metadata": {},
   "outputs": [],
   "source": [
    "covid_data_raw = pd.read_csv('./CSV/covid_data_raw.csv')"
   ]
  },
  {
   "cell_type": "markdown",
   "metadata": {},
   "source": [
    "## __Làm sạch dữ liệu__"
   ]
  },
  {
   "cell_type": "markdown",
   "metadata": {},
   "source": [
    "### Lọc các bài báo là tiếng Anh"
   ]
  },
  {
   "cell_type": "code",
   "execution_count": 5,
   "metadata": {},
   "outputs": [
    {
     "name": "stderr",
     "output_type": "stream",
     "text": [
      "100%|██████████| 367001/367001 [16:04<00:00, 380.70it/s]  \n"
     ]
    }
   ],
   "source": [
    "df_en = process_languages_parallel(covid_data_raw)"
   ]
  },
  {
   "cell_type": "code",
   "execution_count": 8,
   "metadata": {},
   "outputs": [],
   "source": [
    "df_en = df_en[df_en['language'] == 'en']"
   ]
  },
  {
   "cell_type": "markdown",
   "metadata": {},
   "source": [
    "Dataframe English"
   ]
  },
  {
   "cell_type": "code",
   "execution_count": 10,
   "metadata": {},
   "outputs": [],
   "source": [
    "df_en.to_csv('./CSV/data_english.csv', index=False)"
   ]
  },
  {
   "cell_type": "code",
   "execution_count": 11,
   "metadata": {},
   "outputs": [
    {
     "data": {
      "text/plain": [
       "paper_id            0\n",
       "title           39680\n",
       "abstract        40614\n",
       "body_text           0\n",
       "publish_time        0\n",
       "doi             11493\n",
       "language            0\n",
       "dtype: int64"
      ]
     },
     "execution_count": 11,
     "metadata": {},
     "output_type": "execute_result"
    }
   ],
   "source": [
    "df_en.isnull().sum()"
   ]
  },
  {
   "cell_type": "markdown",
   "metadata": {},
   "source": [
    "### Lọc các bài báo chính thống (bài báo có doi)"
   ]
  },
  {
   "cell_type": "code",
   "execution_count": 14,
   "metadata": {},
   "outputs": [
    {
     "data": {
      "text/html": [
       "<div>\n",
       "<style scoped>\n",
       "    .dataframe tbody tr th:only-of-type {\n",
       "        vertical-align: middle;\n",
       "    }\n",
       "\n",
       "    .dataframe tbody tr th {\n",
       "        vertical-align: top;\n",
       "    }\n",
       "\n",
       "    .dataframe thead th {\n",
       "        text-align: right;\n",
       "    }\n",
       "</style>\n",
       "<table border=\"1\" class=\"dataframe\">\n",
       "  <thead>\n",
       "    <tr style=\"text-align: right;\">\n",
       "      <th></th>\n",
       "      <th>paper_id</th>\n",
       "      <th>title</th>\n",
       "      <th>abstract</th>\n",
       "      <th>body_text</th>\n",
       "      <th>publish_time</th>\n",
       "      <th>doi</th>\n",
       "    </tr>\n",
       "  </thead>\n",
       "  <tbody>\n",
       "    <tr>\n",
       "      <th>0</th>\n",
       "      <td>878235c11286bd3f128c970c198721f5e6d2853c</td>\n",
       "      <td>NaN</td>\n",
       "      <td>NaN</td>\n",
       "      <td>The December 2020 issue of Academic Psychiatry...</td>\n",
       "      <td>2020-10-30</td>\n",
       "      <td>10.1007/s40596-020-01357-z</td>\n",
       "    </tr>\n",
       "    <tr>\n",
       "      <th>4370</th>\n",
       "      <td>dbeef041d98f24a132d0b6056c5c8f6676cde3ce</td>\n",
       "      <td>Clinical Medicine Subcutaneous, Paracardiac, a...</td>\n",
       "      <td>Adipose tissue, in particular epicardial adipo...</td>\n",
       "      <td>Epicardial adipose tissue is a metabolically a...</td>\n",
       "      <td>2021-02-12</td>\n",
       "      <td>10.3390/jcm10040735</td>\n",
       "    </tr>\n",
       "    <tr>\n",
       "      <th>4428</th>\n",
       "      <td>7109a206b02f37f65e73371d0dd38dc06478ef8f</td>\n",
       "      <td>molecules Efficient Regioselective Synthesis o...</td>\n",
       "      <td>Citation: Potapov, V.A.; Ishigeev, R.S.; Amoso...</td>\n",
       "      <td>The quinoline ring continues to occupy an impo...</td>\n",
       "      <td>2021-02-20</td>\n",
       "      <td>10.3390/molecules26041116</td>\n",
       "    </tr>\n",
       "    <tr>\n",
       "      <th>4432</th>\n",
       "      <td>33f289415db6fbb99204b8fefba9c9d6334a0721</td>\n",
       "      <td>Distributed Architecture for Unmanned Vehicle ...</td>\n",
       "      <td>Citation: Ramos, J.; Ribeiro, R.; Safadinho, D...</td>\n",
       "      <td>The evolution of the technology is raising new...</td>\n",
       "      <td>2021-02-20</td>\n",
       "      <td>10.3390/s21041477</td>\n",
       "    </tr>\n",
       "    <tr>\n",
       "      <th>4436</th>\n",
       "      <td>00767c9591083b810350e0355530511685bbc78d</td>\n",
       "      <td>Circulation</td>\n",
       "      <td>NaN</td>\n",
       "      <td>A s we write these words, the United States is...</td>\n",
       "      <td>2021-03-02</td>\n",
       "      <td>10.1161/circulationaha.120.053439</td>\n",
       "    </tr>\n",
       "    <tr>\n",
       "      <th>...</th>\n",
       "      <td>...</td>\n",
       "      <td>...</td>\n",
       "      <td>...</td>\n",
       "      <td>...</td>\n",
       "      <td>...</td>\n",
       "      <td>...</td>\n",
       "    </tr>\n",
       "    <tr>\n",
       "      <th>366996</th>\n",
       "      <td>PMC7773112</td>\n",
       "      <td>Recent discovery and development on SARS-CoV-2...</td>\n",
       "      <td>The origin and spread of current novel coronav...</td>\n",
       "      <td>A cluster of patients with pneumonia of unknow...</td>\n",
       "      <td>2020-10-30</td>\n",
       "      <td>10.4103/jfmpc.jfmpc_851_20</td>\n",
       "    </tr>\n",
       "    <tr>\n",
       "      <th>366997</th>\n",
       "      <td>PMC7901595</td>\n",
       "      <td>Digital Pathology During the COVID-19 Outbreak...</td>\n",
       "      <td>BACKGROUND: Transition to digital pathology us...</td>\n",
       "      <td>Digital pathology (DP) intends to use computer...</td>\n",
       "      <td>2021-02-22</td>\n",
       "      <td>10.2196/24266</td>\n",
       "    </tr>\n",
       "    <tr>\n",
       "      <th>366998</th>\n",
       "      <td>PMC9008685</td>\n",
       "      <td>Tozinameran</td>\n",
       "      <td>NaN</td>\n",
       "      <td>\\nAuthor Information\\nAn event is serious (bas...</td>\n",
       "      <td>2022-04-16</td>\n",
       "      <td>10.1007/s40278-022-13539-4</td>\n",
       "    </tr>\n",
       "    <tr>\n",
       "      <th>366999</th>\n",
       "      <td>PMC9051801</td>\n",
       "      <td>Tozinameran/prednisone</td>\n",
       "      <td>NaN</td>\n",
       "      <td>\\nAuthor Information\\nAn event is serious (bas...</td>\n",
       "      <td>2022-04-30</td>\n",
       "      <td>10.1007/s40278-022-14373-1</td>\n",
       "    </tr>\n",
       "    <tr>\n",
       "      <th>367000</th>\n",
       "      <td>PMC8156131</td>\n",
       "      <td>Social Media Use for Health Purposes: Systemat...</td>\n",
       "      <td>BACKGROUND: Social media has been widely used ...</td>\n",
       "      <td>Social media has been widely used in health co...</td>\n",
       "      <td>2021-05-12</td>\n",
       "      <td>10.2196/17917</td>\n",
       "    </tr>\n",
       "  </tbody>\n",
       "</table>\n",
       "<p>342890 rows × 6 columns</p>\n",
       "</div>"
      ],
      "text/plain": [
       "                                        paper_id  \\\n",
       "0       878235c11286bd3f128c970c198721f5e6d2853c   \n",
       "4370    dbeef041d98f24a132d0b6056c5c8f6676cde3ce   \n",
       "4428    7109a206b02f37f65e73371d0dd38dc06478ef8f   \n",
       "4432    33f289415db6fbb99204b8fefba9c9d6334a0721   \n",
       "4436    00767c9591083b810350e0355530511685bbc78d   \n",
       "...                                          ...   \n",
       "366996                                PMC7773112   \n",
       "366997                                PMC7901595   \n",
       "366998                                PMC9008685   \n",
       "366999                                PMC9051801   \n",
       "367000                                PMC8156131   \n",
       "\n",
       "                                                    title  \\\n",
       "0                                                     NaN   \n",
       "4370    Clinical Medicine Subcutaneous, Paracardiac, a...   \n",
       "4428    molecules Efficient Regioselective Synthesis o...   \n",
       "4432    Distributed Architecture for Unmanned Vehicle ...   \n",
       "4436                                          Circulation   \n",
       "...                                                   ...   \n",
       "366996  Recent discovery and development on SARS-CoV-2...   \n",
       "366997  Digital Pathology During the COVID-19 Outbreak...   \n",
       "366998                                        Tozinameran   \n",
       "366999                             Tozinameran/prednisone   \n",
       "367000  Social Media Use for Health Purposes: Systemat...   \n",
       "\n",
       "                                                 abstract  \\\n",
       "0                                                     NaN   \n",
       "4370    Adipose tissue, in particular epicardial adipo...   \n",
       "4428    Citation: Potapov, V.A.; Ishigeev, R.S.; Amoso...   \n",
       "4432    Citation: Ramos, J.; Ribeiro, R.; Safadinho, D...   \n",
       "4436                                                  NaN   \n",
       "...                                                   ...   \n",
       "366996  The origin and spread of current novel coronav...   \n",
       "366997  BACKGROUND: Transition to digital pathology us...   \n",
       "366998                                                NaN   \n",
       "366999                                                NaN   \n",
       "367000  BACKGROUND: Social media has been widely used ...   \n",
       "\n",
       "                                                body_text publish_time  \\\n",
       "0       The December 2020 issue of Academic Psychiatry...   2020-10-30   \n",
       "4370    Epicardial adipose tissue is a metabolically a...   2021-02-12   \n",
       "4428    The quinoline ring continues to occupy an impo...   2021-02-20   \n",
       "4432    The evolution of the technology is raising new...   2021-02-20   \n",
       "4436    A s we write these words, the United States is...   2021-03-02   \n",
       "...                                                   ...          ...   \n",
       "366996  A cluster of patients with pneumonia of unknow...   2020-10-30   \n",
       "366997  Digital pathology (DP) intends to use computer...   2021-02-22   \n",
       "366998  \\nAuthor Information\\nAn event is serious (bas...   2022-04-16   \n",
       "366999  \\nAuthor Information\\nAn event is serious (bas...   2022-04-30   \n",
       "367000  Social media has been widely used in health co...   2021-05-12   \n",
       "\n",
       "                                      doi  \n",
       "0              10.1007/s40596-020-01357-z  \n",
       "4370                  10.3390/jcm10040735  \n",
       "4428            10.3390/molecules26041116  \n",
       "4432                    10.3390/s21041477  \n",
       "4436    10.1161/circulationaha.120.053439  \n",
       "...                                   ...  \n",
       "366996         10.4103/jfmpc.jfmpc_851_20  \n",
       "366997                      10.2196/24266  \n",
       "366998         10.1007/s40278-022-13539-4  \n",
       "366999         10.1007/s40278-022-14373-1  \n",
       "367000                      10.2196/17917  \n",
       "\n",
       "[342890 rows x 6 columns]"
      ]
     },
     "execution_count": 14,
     "metadata": {},
     "output_type": "execute_result"
    }
   ],
   "source": [
    "df_en = df_en[df_en['doi'].apply(lambda x: isinstance(x, str))]\n",
    "df_en.drop('language', axis=1, inplace=True)\n",
    "df_en"
   ]
  },
  {
   "cell_type": "markdown",
   "metadata": {},
   "source": [
    "### Lọc các bài báo theo độ dài body và độ dài abstract"
   ]
  },
  {
   "cell_type": "code",
   "execution_count": 16,
   "metadata": {},
   "outputs": [
    {
     "data": {
      "text/plain": [
       "paper_id            0\n",
       "title           39331\n",
       "abstract        40487\n",
       "body_text           0\n",
       "publish_time        0\n",
       "doi                 0\n",
       "dtype: int64"
      ]
     },
     "execution_count": 16,
     "metadata": {},
     "output_type": "execute_result"
    }
   ],
   "source": [
    "df_en.isnull().sum()"
   ]
  },
  {
   "cell_type": "code",
   "execution_count": 22,
   "metadata": {},
   "outputs": [
    {
     "data": {
      "text/html": [
       "<div>\n",
       "<style scoped>\n",
       "    .dataframe tbody tr th:only-of-type {\n",
       "        vertical-align: middle;\n",
       "    }\n",
       "\n",
       "    .dataframe tbody tr th {\n",
       "        vertical-align: top;\n",
       "    }\n",
       "\n",
       "    .dataframe thead th {\n",
       "        text-align: right;\n",
       "    }\n",
       "</style>\n",
       "<table border=\"1\" class=\"dataframe\">\n",
       "  <thead>\n",
       "    <tr style=\"text-align: right;\">\n",
       "      <th></th>\n",
       "      <th>paper_id</th>\n",
       "      <th>title</th>\n",
       "      <th>abstract</th>\n",
       "      <th>body_text</th>\n",
       "      <th>publish_time</th>\n",
       "      <th>doi</th>\n",
       "      <th>length_body</th>\n",
       "      <th>length_abstract</th>\n",
       "    </tr>\n",
       "  </thead>\n",
       "  <tbody>\n",
       "    <tr>\n",
       "      <th>0</th>\n",
       "      <td>878235c11286bd3f128c970c198721f5e6d2853c</td>\n",
       "      <td>NaN</td>\n",
       "      <td>NaN</td>\n",
       "      <td>The December 2020 issue of Academic Psychiatry...</td>\n",
       "      <td>2020-10-30</td>\n",
       "      <td>10.1007/s40596-020-01357-z</td>\n",
       "      <td>576</td>\n",
       "      <td>0</td>\n",
       "    </tr>\n",
       "    <tr>\n",
       "      <th>4370</th>\n",
       "      <td>dbeef041d98f24a132d0b6056c5c8f6676cde3ce</td>\n",
       "      <td>Clinical Medicine Subcutaneous, Paracardiac, a...</td>\n",
       "      <td>Adipose tissue, in particular epicardial adipo...</td>\n",
       "      <td>Epicardial adipose tissue is a metabolically a...</td>\n",
       "      <td>2021-02-12</td>\n",
       "      <td>10.3390/jcm10040735</td>\n",
       "      <td>2869</td>\n",
       "      <td>222</td>\n",
       "    </tr>\n",
       "    <tr>\n",
       "      <th>4428</th>\n",
       "      <td>7109a206b02f37f65e73371d0dd38dc06478ef8f</td>\n",
       "      <td>molecules Efficient Regioselective Synthesis o...</td>\n",
       "      <td>Citation: Potapov, V.A.; Ishigeev, R.S.; Amoso...</td>\n",
       "      <td>The quinoline ring continues to occupy an impo...</td>\n",
       "      <td>2021-02-20</td>\n",
       "      <td>10.3390/molecules26041116</td>\n",
       "      <td>2248</td>\n",
       "      <td>27</td>\n",
       "    </tr>\n",
       "    <tr>\n",
       "      <th>4432</th>\n",
       "      <td>33f289415db6fbb99204b8fefba9c9d6334a0721</td>\n",
       "      <td>Distributed Architecture for Unmanned Vehicle ...</td>\n",
       "      <td>Citation: Ramos, J.; Ribeiro, R.; Safadinho, D...</td>\n",
       "      <td>The evolution of the technology is raising new...</td>\n",
       "      <td>2021-02-20</td>\n",
       "      <td>10.3390/s21041477</td>\n",
       "      <td>15971</td>\n",
       "      <td>20</td>\n",
       "    </tr>\n",
       "    <tr>\n",
       "      <th>4436</th>\n",
       "      <td>00767c9591083b810350e0355530511685bbc78d</td>\n",
       "      <td>Circulation</td>\n",
       "      <td>NaN</td>\n",
       "      <td>A s we write these words, the United States is...</td>\n",
       "      <td>2021-03-02</td>\n",
       "      <td>10.1161/circulationaha.120.053439</td>\n",
       "      <td>1306</td>\n",
       "      <td>0</td>\n",
       "    </tr>\n",
       "    <tr>\n",
       "      <th>...</th>\n",
       "      <td>...</td>\n",
       "      <td>...</td>\n",
       "      <td>...</td>\n",
       "      <td>...</td>\n",
       "      <td>...</td>\n",
       "      <td>...</td>\n",
       "      <td>...</td>\n",
       "      <td>...</td>\n",
       "    </tr>\n",
       "    <tr>\n",
       "      <th>366996</th>\n",
       "      <td>PMC7773112</td>\n",
       "      <td>Recent discovery and development on SARS-CoV-2...</td>\n",
       "      <td>The origin and spread of current novel coronav...</td>\n",
       "      <td>A cluster of patients with pneumonia of unknow...</td>\n",
       "      <td>2020-10-30</td>\n",
       "      <td>10.4103/jfmpc.jfmpc_851_20</td>\n",
       "      <td>3652</td>\n",
       "      <td>298</td>\n",
       "    </tr>\n",
       "    <tr>\n",
       "      <th>366997</th>\n",
       "      <td>PMC7901595</td>\n",
       "      <td>Digital Pathology During the COVID-19 Outbreak...</td>\n",
       "      <td>BACKGROUND: Transition to digital pathology us...</td>\n",
       "      <td>Digital pathology (DP) intends to use computer...</td>\n",
       "      <td>2021-02-22</td>\n",
       "      <td>10.2196/24266</td>\n",
       "      <td>2323</td>\n",
       "      <td>287</td>\n",
       "    </tr>\n",
       "    <tr>\n",
       "      <th>366998</th>\n",
       "      <td>PMC9008685</td>\n",
       "      <td>Tozinameran</td>\n",
       "      <td>NaN</td>\n",
       "      <td>\\nAuthor Information\\nAn event is serious (bas...</td>\n",
       "      <td>2022-04-16</td>\n",
       "      <td>10.1007/s40278-022-13539-4</td>\n",
       "      <td>214</td>\n",
       "      <td>0</td>\n",
       "    </tr>\n",
       "    <tr>\n",
       "      <th>366999</th>\n",
       "      <td>PMC9051801</td>\n",
       "      <td>Tozinameran/prednisone</td>\n",
       "      <td>NaN</td>\n",
       "      <td>\\nAuthor Information\\nAn event is serious (bas...</td>\n",
       "      <td>2022-04-30</td>\n",
       "      <td>10.1007/s40278-022-14373-1</td>\n",
       "      <td>376</td>\n",
       "      <td>0</td>\n",
       "    </tr>\n",
       "    <tr>\n",
       "      <th>367000</th>\n",
       "      <td>PMC8156131</td>\n",
       "      <td>Social Media Use for Health Purposes: Systemat...</td>\n",
       "      <td>BACKGROUND: Social media has been widely used ...</td>\n",
       "      <td>Social media has been widely used in health co...</td>\n",
       "      <td>2021-05-12</td>\n",
       "      <td>10.2196/17917</td>\n",
       "      <td>5758</td>\n",
       "      <td>252</td>\n",
       "    </tr>\n",
       "  </tbody>\n",
       "</table>\n",
       "<p>338657 rows × 8 columns</p>\n",
       "</div>"
      ],
      "text/plain": [
       "                                        paper_id  \\\n",
       "0       878235c11286bd3f128c970c198721f5e6d2853c   \n",
       "4370    dbeef041d98f24a132d0b6056c5c8f6676cde3ce   \n",
       "4428    7109a206b02f37f65e73371d0dd38dc06478ef8f   \n",
       "4432    33f289415db6fbb99204b8fefba9c9d6334a0721   \n",
       "4436    00767c9591083b810350e0355530511685bbc78d   \n",
       "...                                          ...   \n",
       "366996                                PMC7773112   \n",
       "366997                                PMC7901595   \n",
       "366998                                PMC9008685   \n",
       "366999                                PMC9051801   \n",
       "367000                                PMC8156131   \n",
       "\n",
       "                                                    title  \\\n",
       "0                                                     NaN   \n",
       "4370    Clinical Medicine Subcutaneous, Paracardiac, a...   \n",
       "4428    molecules Efficient Regioselective Synthesis o...   \n",
       "4432    Distributed Architecture for Unmanned Vehicle ...   \n",
       "4436                                          Circulation   \n",
       "...                                                   ...   \n",
       "366996  Recent discovery and development on SARS-CoV-2...   \n",
       "366997  Digital Pathology During the COVID-19 Outbreak...   \n",
       "366998                                        Tozinameran   \n",
       "366999                             Tozinameran/prednisone   \n",
       "367000  Social Media Use for Health Purposes: Systemat...   \n",
       "\n",
       "                                                 abstract  \\\n",
       "0                                                     NaN   \n",
       "4370    Adipose tissue, in particular epicardial adipo...   \n",
       "4428    Citation: Potapov, V.A.; Ishigeev, R.S.; Amoso...   \n",
       "4432    Citation: Ramos, J.; Ribeiro, R.; Safadinho, D...   \n",
       "4436                                                  NaN   \n",
       "...                                                   ...   \n",
       "366996  The origin and spread of current novel coronav...   \n",
       "366997  BACKGROUND: Transition to digital pathology us...   \n",
       "366998                                                NaN   \n",
       "366999                                                NaN   \n",
       "367000  BACKGROUND: Social media has been widely used ...   \n",
       "\n",
       "                                                body_text publish_time  \\\n",
       "0       The December 2020 issue of Academic Psychiatry...   2020-10-30   \n",
       "4370    Epicardial adipose tissue is a metabolically a...   2021-02-12   \n",
       "4428    The quinoline ring continues to occupy an impo...   2021-02-20   \n",
       "4432    The evolution of the technology is raising new...   2021-02-20   \n",
       "4436    A s we write these words, the United States is...   2021-03-02   \n",
       "...                                                   ...          ...   \n",
       "366996  A cluster of patients with pneumonia of unknow...   2020-10-30   \n",
       "366997  Digital pathology (DP) intends to use computer...   2021-02-22   \n",
       "366998  \\nAuthor Information\\nAn event is serious (bas...   2022-04-16   \n",
       "366999  \\nAuthor Information\\nAn event is serious (bas...   2022-04-30   \n",
       "367000  Social media has been widely used in health co...   2021-05-12   \n",
       "\n",
       "                                      doi  length_body  length_abstract  \n",
       "0              10.1007/s40596-020-01357-z          576                0  \n",
       "4370                  10.3390/jcm10040735         2869              222  \n",
       "4428            10.3390/molecules26041116         2248               27  \n",
       "4432                    10.3390/s21041477        15971               20  \n",
       "4436    10.1161/circulationaha.120.053439         1306                0  \n",
       "...                                   ...          ...              ...  \n",
       "366996         10.4103/jfmpc.jfmpc_851_20         3652              298  \n",
       "366997                      10.2196/24266         2323              287  \n",
       "366998         10.1007/s40278-022-13539-4          214                0  \n",
       "366999         10.1007/s40278-022-14373-1          376                0  \n",
       "367000                      10.2196/17917         5758              252  \n",
       "\n",
       "[338657 rows x 8 columns]"
      ]
     },
     "execution_count": 22,
     "metadata": {},
     "output_type": "execute_result"
    }
   ],
   "source": [
    "df_en['length_body'] = df_en['body_text'].apply(lambda x: len(x.split()) if isinstance(x, str) else 0)\n",
    "df_en['length_abstract'] = df_en['abstract'].apply(lambda x: len(x.split()) if isinstance(x, str) else 0)\n",
    "df_en = df_en[df_en['length_body'] > df_en['length_abstract']]\n",
    "df_en"
   ]
  },
  {
   "cell_type": "code",
   "execution_count": 25,
   "metadata": {},
   "outputs": [],
   "source": [
    "# Dataframe chua co title theo doi\n",
    "df_en.to_csv('./CSV/data_english_1.csv', index=False)"
   ]
  },
  {
   "cell_type": "markdown",
   "metadata": {},
   "source": [
    "### Xử lý thiếu title bằng cách truy cập vào doi"
   ]
  },
  {
   "cell_type": "code",
   "execution_count": 27,
   "metadata": {},
   "outputs": [],
   "source": [
    "df_en_title = df_en[df_en['title'].apply(lambda x: isinstance(x, str))]\n",
    "df_en_no_title = df_en[df_en['title'].apply(lambda x: not isinstance(x, str))]"
   ]
  },
  {
   "cell_type": "markdown",
   "metadata": {},
   "source": [
    " Xử lý với dataframe không có title"
   ]
  },
  {
   "cell_type": "code",
   "execution_count": 34,
   "metadata": {},
   "outputs": [
    {
     "name": "stderr",
     "output_type": "stream",
     "text": [
      "Checking DOIs: 100%|██████████| 38621/38621 [1:45:36<00:00,  6.10it/s]  \n",
      "C:\\Users\\dnson\\AppData\\Local\\Temp\\ipykernel_1020\\4186481824.py:16: SettingWithCopyWarning: \n",
      "A value is trying to be set on a copy of a slice from a DataFrame.\n",
      "Try using .loc[row_indexer,col_indexer] = value instead\n",
      "\n",
      "See the caveats in the documentation: https://pandas.pydata.org/pandas-docs/stable/user_guide/indexing.html#returning-a-view-versus-a-copy\n",
      "  df['status_api'] = results\n"
     ]
    }
   ],
   "source": [
    "df_en_no_title = check_doi_parallel(df_en_no_title)"
   ]
  },
  {
   "cell_type": "code",
   "execution_count": 38,
   "metadata": {},
   "outputs": [],
   "source": [
    "df_en_no_title = df_en_no_title[df_en_no_title['status_api'] == True]"
   ]
  },
  {
   "cell_type": "code",
   "execution_count": 40,
   "metadata": {},
   "outputs": [
    {
     "name": "stderr",
     "output_type": "stream",
     "text": [
      "100%|██████████| 38412/38412 [1:44:58<00:00,  6.10it/s]  \n"
     ]
    }
   ],
   "source": [
    "df_en_no_title1 = df_en_no_title.copy()\n",
    "df_en_no_title1 = title_doi_parallel(df_en_no_title1)"
   ]
  },
  {
   "cell_type": "code",
   "execution_count": null,
   "metadata": {},
   "outputs": [],
   "source": [
    "df_en_no_title1['title'] = df_en_no_title1['title'].fillna(df_en_no_title1['title_doi'])"
   ]
  },
  {
   "cell_type": "code",
   "execution_count": null,
   "metadata": {},
   "outputs": [],
   "source": [
    "df_en_no_title1 = df_en_no_title1[df_en_no_title1['title'].apply(lambda x: isinstance(x, str))]\n",
    "df_en_no_title = df_en_no_title1.copy()"
   ]
  },
  {
   "cell_type": "code",
   "execution_count": 53,
   "metadata": {},
   "outputs": [
    {
     "data": {
      "text/html": [
       "<div>\n",
       "<style scoped>\n",
       "    .dataframe tbody tr th:only-of-type {\n",
       "        vertical-align: middle;\n",
       "    }\n",
       "\n",
       "    .dataframe tbody tr th {\n",
       "        vertical-align: top;\n",
       "    }\n",
       "\n",
       "    .dataframe thead th {\n",
       "        text-align: right;\n",
       "    }\n",
       "</style>\n",
       "<table border=\"1\" class=\"dataframe\">\n",
       "  <thead>\n",
       "    <tr style=\"text-align: right;\">\n",
       "      <th></th>\n",
       "      <th>paper_id</th>\n",
       "      <th>title</th>\n",
       "      <th>abstract</th>\n",
       "      <th>body_text</th>\n",
       "      <th>publish_time</th>\n",
       "      <th>doi</th>\n",
       "      <th>length_body</th>\n",
       "      <th>length_abstract</th>\n",
       "    </tr>\n",
       "  </thead>\n",
       "  <tbody>\n",
       "    <tr>\n",
       "      <th>0</th>\n",
       "      <td>878235c11286bd3f128c970c198721f5e6d2853c</td>\n",
       "      <td>In This Issue: December 2020</td>\n",
       "      <td>NaN</td>\n",
       "      <td>The December 2020 issue of Academic Psychiatry...</td>\n",
       "      <td>2020-10-30</td>\n",
       "      <td>10.1007/s40596-020-01357-z</td>\n",
       "      <td>576</td>\n",
       "      <td>0</td>\n",
       "    </tr>\n",
       "    <tr>\n",
       "      <th>4438</th>\n",
       "      <td>9eaea87dea40c67b640f730fad9c206149efa060</td>\n",
       "      <td>World Congress on Osteoporosis, Osteoarthritis...</td>\n",
       "      <td>NaN</td>\n",
       "      <td>characteristics and preferences of the patient...</td>\n",
       "      <td>2021-03-03</td>\n",
       "      <td>10.1007/s00198-020-05695-4</td>\n",
       "      <td>15348</td>\n",
       "      <td>0</td>\n",
       "    </tr>\n",
       "    <tr>\n",
       "      <th>4441</th>\n",
       "      <td>656632ff89183d68a4b648638ebccb710c770846</td>\n",
       "      <td>How Healthy Are Health-Related Behaviors in Un...</td>\n",
       "      <td>Citation: Cena, H.; Porri, D.; De Giuseppe, R....</td>\n",
       "      <td>Adolescence and young adulthood (10-24 years o...</td>\n",
       "      <td>2021-02-19</td>\n",
       "      <td>10.3390/nu13020675</td>\n",
       "      <td>5505</td>\n",
       "      <td>25</td>\n",
       "    </tr>\n",
       "    <tr>\n",
       "      <th>4457</th>\n",
       "      <td>c05eb529548858c129aa4c04a549b2f6fc77b9bb</td>\n",
       "      <td>Demographic Characteristics of Participants in...</td>\n",
       "      <td>NaN</td>\n",
       "      <td>We identified all novel vaccine products licen...</td>\n",
       "      <td>2021-03-03</td>\n",
       "      <td>10.1007/s11606-021-06670-3</td>\n",
       "      <td>821</td>\n",
       "      <td>0</td>\n",
       "    </tr>\n",
       "    <tr>\n",
       "      <th>4463</th>\n",
       "      <td>c1e02353b109c68eec4fd68fa08693374cca5bb9</td>\n",
       "      <td>hiPSCs for predictive modelling of neurodegene...</td>\n",
       "      <td>Human induced pluripotent stem cells (hiPSCs) ...</td>\n",
       "      <td>Cellular reprogramming is a term that encompas...</td>\n",
       "      <td>2021-03-03</td>\n",
       "      <td>10.1038/s41582-021-00465-0</td>\n",
       "      <td>7229</td>\n",
       "      <td>163</td>\n",
       "    </tr>\n",
       "    <tr>\n",
       "      <th>...</th>\n",
       "      <td>...</td>\n",
       "      <td>...</td>\n",
       "      <td>...</td>\n",
       "      <td>...</td>\n",
       "      <td>...</td>\n",
       "      <td>...</td>\n",
       "      <td>...</td>\n",
       "      <td>...</td>\n",
       "    </tr>\n",
       "    <tr>\n",
       "      <th>352255</th>\n",
       "      <td>7ecbd7671283fa2c0adea0e94550c98d244bf903</td>\n",
       "      <td>COVID-19-Related Loneliness and Psychiatric Sy...</td>\n",
       "      <td>OBJECTIVES: The study examined whether subject...</td>\n",
       "      <td>In response to the Coronavirus disease 2019 (C...</td>\n",
       "      <td>2020-05-27</td>\n",
       "      <td>10.1016/j.jagp.2020.05.018</td>\n",
       "      <td>1435</td>\n",
       "      <td>150</td>\n",
       "    </tr>\n",
       "    <tr>\n",
       "      <th>352268</th>\n",
       "      <td>23d86d693951eb3161bce8d671aee3eaacaf7c67</td>\n",
       "      <td>Home Sick with Coronavirus Symptoms: a Nationa...</td>\n",
       "      <td>NaN</td>\n",
       "      <td>Reports from hospitals and locales 1 have high...</td>\n",
       "      <td>2020-09-10</td>\n",
       "      <td>10.1007/s11606-020-06159-5</td>\n",
       "      <td>970</td>\n",
       "      <td>0</td>\n",
       "    </tr>\n",
       "    <tr>\n",
       "      <th>352274</th>\n",
       "      <td>b255f4993abde42cc1ba60587e4554bcddbfcd1a</td>\n",
       "      <td>COVID-19 in 2 Persons with Mild Upper Respirat...</td>\n",
       "      <td>We describe 2 cases of coronavirus disease in ...</td>\n",
       "      <td>shopping space, and floor 7 contains shopping ...</td>\n",
       "      <td>2020-06-03</td>\n",
       "      <td>10.3201/eid2606.200452</td>\n",
       "      <td>1591</td>\n",
       "      <td>50</td>\n",
       "    </tr>\n",
       "    <tr>\n",
       "      <th>352287</th>\n",
       "      <td>20f7d192985e71c78a37996490768b8a43d7c61b</td>\n",
       "      <td>Accelerated Critical Therapy Now in the Emerge...</td>\n",
       "      <td>Evaluate the impact of an emergency department...</td>\n",
       "      <td>From 1975 to 2015, the number of hospital beds...</td>\n",
       "      <td>2022-03-16</td>\n",
       "      <td>10.1097/cce.0000000000000660</td>\n",
       "      <td>2934</td>\n",
       "      <td>305</td>\n",
       "    </tr>\n",
       "    <tr>\n",
       "      <th>352301</th>\n",
       "      <td>0a96d19a472a86b64e0fbd33b71aa1765963636c</td>\n",
       "      <td>Experience with Cutaneous Manifestations in CO...</td>\n",
       "      <td>After the beginning of the SARS-CoV-2 pandemic...</td>\n",
       "      <td>Throughout the recent coronavirus disease 2019...</td>\n",
       "      <td>2022-01-25</td>\n",
       "      <td>10.3390/jcm11030600</td>\n",
       "      <td>2923</td>\n",
       "      <td>218</td>\n",
       "    </tr>\n",
       "  </tbody>\n",
       "</table>\n",
       "<p>38411 rows × 8 columns</p>\n",
       "</div>"
      ],
      "text/plain": [
       "                                        paper_id  \\\n",
       "0       878235c11286bd3f128c970c198721f5e6d2853c   \n",
       "4438    9eaea87dea40c67b640f730fad9c206149efa060   \n",
       "4441    656632ff89183d68a4b648638ebccb710c770846   \n",
       "4457    c05eb529548858c129aa4c04a549b2f6fc77b9bb   \n",
       "4463    c1e02353b109c68eec4fd68fa08693374cca5bb9   \n",
       "...                                          ...   \n",
       "352255  7ecbd7671283fa2c0adea0e94550c98d244bf903   \n",
       "352268  23d86d693951eb3161bce8d671aee3eaacaf7c67   \n",
       "352274  b255f4993abde42cc1ba60587e4554bcddbfcd1a   \n",
       "352287  20f7d192985e71c78a37996490768b8a43d7c61b   \n",
       "352301  0a96d19a472a86b64e0fbd33b71aa1765963636c   \n",
       "\n",
       "                                                    title  \\\n",
       "0                            In This Issue: December 2020   \n",
       "4438    World Congress on Osteoporosis, Osteoarthritis...   \n",
       "4441    How Healthy Are Health-Related Behaviors in Un...   \n",
       "4457    Demographic Characteristics of Participants in...   \n",
       "4463    hiPSCs for predictive modelling of neurodegene...   \n",
       "...                                                   ...   \n",
       "352255  COVID-19-Related Loneliness and Psychiatric Sy...   \n",
       "352268  Home Sick with Coronavirus Symptoms: a Nationa...   \n",
       "352274  COVID-19 in 2 Persons with Mild Upper Respirat...   \n",
       "352287  Accelerated Critical Therapy Now in the Emerge...   \n",
       "352301  Experience with Cutaneous Manifestations in CO...   \n",
       "\n",
       "                                                 abstract  \\\n",
       "0                                                     NaN   \n",
       "4438                                                  NaN   \n",
       "4441    Citation: Cena, H.; Porri, D.; De Giuseppe, R....   \n",
       "4457                                                  NaN   \n",
       "4463    Human induced pluripotent stem cells (hiPSCs) ...   \n",
       "...                                                   ...   \n",
       "352255  OBJECTIVES: The study examined whether subject...   \n",
       "352268                                                NaN   \n",
       "352274  We describe 2 cases of coronavirus disease in ...   \n",
       "352287  Evaluate the impact of an emergency department...   \n",
       "352301  After the beginning of the SARS-CoV-2 pandemic...   \n",
       "\n",
       "                                                body_text publish_time  \\\n",
       "0       The December 2020 issue of Academic Psychiatry...   2020-10-30   \n",
       "4438    characteristics and preferences of the patient...   2021-03-03   \n",
       "4441    Adolescence and young adulthood (10-24 years o...   2021-02-19   \n",
       "4457    We identified all novel vaccine products licen...   2021-03-03   \n",
       "4463    Cellular reprogramming is a term that encompas...   2021-03-03   \n",
       "...                                                   ...          ...   \n",
       "352255  In response to the Coronavirus disease 2019 (C...   2020-05-27   \n",
       "352268  Reports from hospitals and locales 1 have high...   2020-09-10   \n",
       "352274  shopping space, and floor 7 contains shopping ...   2020-06-03   \n",
       "352287  From 1975 to 2015, the number of hospital beds...   2022-03-16   \n",
       "352301  Throughout the recent coronavirus disease 2019...   2022-01-25   \n",
       "\n",
       "                                 doi  length_body  length_abstract  \n",
       "0         10.1007/s40596-020-01357-z          576                0  \n",
       "4438      10.1007/s00198-020-05695-4        15348                0  \n",
       "4441              10.3390/nu13020675         5505               25  \n",
       "4457      10.1007/s11606-021-06670-3          821                0  \n",
       "4463      10.1038/s41582-021-00465-0         7229              163  \n",
       "...                              ...          ...              ...  \n",
       "352255    10.1016/j.jagp.2020.05.018         1435              150  \n",
       "352268    10.1007/s11606-020-06159-5          970                0  \n",
       "352274        10.3201/eid2606.200452         1591               50  \n",
       "352287  10.1097/cce.0000000000000660         2934              305  \n",
       "352301           10.3390/jcm11030600         2923              218  \n",
       "\n",
       "[38411 rows x 8 columns]"
      ]
     },
     "execution_count": 53,
     "metadata": {},
     "output_type": "execute_result"
    }
   ],
   "source": [
    "df_en_no_title.drop(['title_doi', 'status_api'], axis=1, inplace=True)\n",
    "df_en_no_title"
   ]
  },
  {
   "cell_type": "code",
   "execution_count": 65,
   "metadata": {},
   "outputs": [
    {
     "data": {
      "text/html": [
       "<div>\n",
       "<style scoped>\n",
       "    .dataframe tbody tr th:only-of-type {\n",
       "        vertical-align: middle;\n",
       "    }\n",
       "\n",
       "    .dataframe tbody tr th {\n",
       "        vertical-align: top;\n",
       "    }\n",
       "\n",
       "    .dataframe thead th {\n",
       "        text-align: right;\n",
       "    }\n",
       "</style>\n",
       "<table border=\"1\" class=\"dataframe\">\n",
       "  <thead>\n",
       "    <tr style=\"text-align: right;\">\n",
       "      <th></th>\n",
       "      <th>paper_id</th>\n",
       "      <th>title</th>\n",
       "      <th>abstract</th>\n",
       "      <th>body_text</th>\n",
       "      <th>publish_time</th>\n",
       "      <th>doi</th>\n",
       "      <th>length_body</th>\n",
       "      <th>length_abstract</th>\n",
       "    </tr>\n",
       "  </thead>\n",
       "  <tbody>\n",
       "    <tr>\n",
       "      <th>0</th>\n",
       "      <td>dbeef041d98f24a132d0b6056c5c8f6676cde3ce</td>\n",
       "      <td>Clinical Medicine Subcutaneous, Paracardiac, a...</td>\n",
       "      <td>Adipose tissue, in particular epicardial adipo...</td>\n",
       "      <td>Epicardial adipose tissue is a metabolically a...</td>\n",
       "      <td>2021-02-12</td>\n",
       "      <td>10.3390/jcm10040735</td>\n",
       "      <td>2869</td>\n",
       "      <td>222</td>\n",
       "    </tr>\n",
       "    <tr>\n",
       "      <th>1</th>\n",
       "      <td>7109a206b02f37f65e73371d0dd38dc06478ef8f</td>\n",
       "      <td>molecules Efficient Regioselective Synthesis o...</td>\n",
       "      <td>Citation: Potapov, V.A.; Ishigeev, R.S.; Amoso...</td>\n",
       "      <td>The quinoline ring continues to occupy an impo...</td>\n",
       "      <td>2021-02-20</td>\n",
       "      <td>10.3390/molecules26041116</td>\n",
       "      <td>2248</td>\n",
       "      <td>27</td>\n",
       "    </tr>\n",
       "    <tr>\n",
       "      <th>2</th>\n",
       "      <td>33f289415db6fbb99204b8fefba9c9d6334a0721</td>\n",
       "      <td>Distributed Architecture for Unmanned Vehicle ...</td>\n",
       "      <td>Citation: Ramos, J.; Ribeiro, R.; Safadinho, D...</td>\n",
       "      <td>The evolution of the technology is raising new...</td>\n",
       "      <td>2021-02-20</td>\n",
       "      <td>10.3390/s21041477</td>\n",
       "      <td>15971</td>\n",
       "      <td>20</td>\n",
       "    </tr>\n",
       "    <tr>\n",
       "      <th>3</th>\n",
       "      <td>00767c9591083b810350e0355530511685bbc78d</td>\n",
       "      <td>Circulation</td>\n",
       "      <td>NaN</td>\n",
       "      <td>A s we write these words, the United States is...</td>\n",
       "      <td>2021-03-02</td>\n",
       "      <td>10.1161/circulationaha.120.053439</td>\n",
       "      <td>1306</td>\n",
       "      <td>0</td>\n",
       "    </tr>\n",
       "    <tr>\n",
       "      <th>4</th>\n",
       "      <td>b3aca91aac270c16d8374e753823e9deb055a92c</td>\n",
       "      <td>Epidemiological transition to mortality and re...</td>\n",
       "      <td>This study sought to redefine the concept of f...</td>\n",
       "      <td>Fracture due to osteoporosis imposes a signifi...</td>\n",
       "      <td>2021-02-09</td>\n",
       "      <td>10.7554/elife.61142</td>\n",
       "      <td>4805</td>\n",
       "      <td>186</td>\n",
       "    </tr>\n",
       "    <tr>\n",
       "      <th>...</th>\n",
       "      <td>...</td>\n",
       "      <td>...</td>\n",
       "      <td>...</td>\n",
       "      <td>...</td>\n",
       "      <td>...</td>\n",
       "      <td>...</td>\n",
       "      <td>...</td>\n",
       "      <td>...</td>\n",
       "    </tr>\n",
       "    <tr>\n",
       "      <th>338442</th>\n",
       "      <td>7ecbd7671283fa2c0adea0e94550c98d244bf903</td>\n",
       "      <td>COVID-19-Related Loneliness and Psychiatric Sy...</td>\n",
       "      <td>OBJECTIVES: The study examined whether subject...</td>\n",
       "      <td>In response to the Coronavirus disease 2019 (C...</td>\n",
       "      <td>2020-05-27</td>\n",
       "      <td>10.1016/j.jagp.2020.05.018</td>\n",
       "      <td>1435</td>\n",
       "      <td>150</td>\n",
       "    </tr>\n",
       "    <tr>\n",
       "      <th>338443</th>\n",
       "      <td>23d86d693951eb3161bce8d671aee3eaacaf7c67</td>\n",
       "      <td>Home Sick with Coronavirus Symptoms: a Nationa...</td>\n",
       "      <td>NaN</td>\n",
       "      <td>Reports from hospitals and locales 1 have high...</td>\n",
       "      <td>2020-09-10</td>\n",
       "      <td>10.1007/s11606-020-06159-5</td>\n",
       "      <td>970</td>\n",
       "      <td>0</td>\n",
       "    </tr>\n",
       "    <tr>\n",
       "      <th>338444</th>\n",
       "      <td>b255f4993abde42cc1ba60587e4554bcddbfcd1a</td>\n",
       "      <td>COVID-19 in 2 Persons with Mild Upper Respirat...</td>\n",
       "      <td>We describe 2 cases of coronavirus disease in ...</td>\n",
       "      <td>shopping space, and floor 7 contains shopping ...</td>\n",
       "      <td>2020-06-03</td>\n",
       "      <td>10.3201/eid2606.200452</td>\n",
       "      <td>1591</td>\n",
       "      <td>50</td>\n",
       "    </tr>\n",
       "    <tr>\n",
       "      <th>338445</th>\n",
       "      <td>20f7d192985e71c78a37996490768b8a43d7c61b</td>\n",
       "      <td>Accelerated Critical Therapy Now in the Emerge...</td>\n",
       "      <td>Evaluate the impact of an emergency department...</td>\n",
       "      <td>From 1975 to 2015, the number of hospital beds...</td>\n",
       "      <td>2022-03-16</td>\n",
       "      <td>10.1097/cce.0000000000000660</td>\n",
       "      <td>2934</td>\n",
       "      <td>305</td>\n",
       "    </tr>\n",
       "    <tr>\n",
       "      <th>338446</th>\n",
       "      <td>0a96d19a472a86b64e0fbd33b71aa1765963636c</td>\n",
       "      <td>Experience with Cutaneous Manifestations in CO...</td>\n",
       "      <td>After the beginning of the SARS-CoV-2 pandemic...</td>\n",
       "      <td>Throughout the recent coronavirus disease 2019...</td>\n",
       "      <td>2022-01-25</td>\n",
       "      <td>10.3390/jcm11030600</td>\n",
       "      <td>2923</td>\n",
       "      <td>218</td>\n",
       "    </tr>\n",
       "  </tbody>\n",
       "</table>\n",
       "<p>338447 rows × 8 columns</p>\n",
       "</div>"
      ],
      "text/plain": [
       "                                        paper_id  \\\n",
       "0       dbeef041d98f24a132d0b6056c5c8f6676cde3ce   \n",
       "1       7109a206b02f37f65e73371d0dd38dc06478ef8f   \n",
       "2       33f289415db6fbb99204b8fefba9c9d6334a0721   \n",
       "3       00767c9591083b810350e0355530511685bbc78d   \n",
       "4       b3aca91aac270c16d8374e753823e9deb055a92c   \n",
       "...                                          ...   \n",
       "338442  7ecbd7671283fa2c0adea0e94550c98d244bf903   \n",
       "338443  23d86d693951eb3161bce8d671aee3eaacaf7c67   \n",
       "338444  b255f4993abde42cc1ba60587e4554bcddbfcd1a   \n",
       "338445  20f7d192985e71c78a37996490768b8a43d7c61b   \n",
       "338446  0a96d19a472a86b64e0fbd33b71aa1765963636c   \n",
       "\n",
       "                                                    title  \\\n",
       "0       Clinical Medicine Subcutaneous, Paracardiac, a...   \n",
       "1       molecules Efficient Regioselective Synthesis o...   \n",
       "2       Distributed Architecture for Unmanned Vehicle ...   \n",
       "3                                             Circulation   \n",
       "4       Epidemiological transition to mortality and re...   \n",
       "...                                                   ...   \n",
       "338442  COVID-19-Related Loneliness and Psychiatric Sy...   \n",
       "338443  Home Sick with Coronavirus Symptoms: a Nationa...   \n",
       "338444  COVID-19 in 2 Persons with Mild Upper Respirat...   \n",
       "338445  Accelerated Critical Therapy Now in the Emerge...   \n",
       "338446  Experience with Cutaneous Manifestations in CO...   \n",
       "\n",
       "                                                 abstract  \\\n",
       "0       Adipose tissue, in particular epicardial adipo...   \n",
       "1       Citation: Potapov, V.A.; Ishigeev, R.S.; Amoso...   \n",
       "2       Citation: Ramos, J.; Ribeiro, R.; Safadinho, D...   \n",
       "3                                                     NaN   \n",
       "4       This study sought to redefine the concept of f...   \n",
       "...                                                   ...   \n",
       "338442  OBJECTIVES: The study examined whether subject...   \n",
       "338443                                                NaN   \n",
       "338444  We describe 2 cases of coronavirus disease in ...   \n",
       "338445  Evaluate the impact of an emergency department...   \n",
       "338446  After the beginning of the SARS-CoV-2 pandemic...   \n",
       "\n",
       "                                                body_text publish_time  \\\n",
       "0       Epicardial adipose tissue is a metabolically a...   2021-02-12   \n",
       "1       The quinoline ring continues to occupy an impo...   2021-02-20   \n",
       "2       The evolution of the technology is raising new...   2021-02-20   \n",
       "3       A s we write these words, the United States is...   2021-03-02   \n",
       "4       Fracture due to osteoporosis imposes a signifi...   2021-02-09   \n",
       "...                                                   ...          ...   \n",
       "338442  In response to the Coronavirus disease 2019 (C...   2020-05-27   \n",
       "338443  Reports from hospitals and locales 1 have high...   2020-09-10   \n",
       "338444  shopping space, and floor 7 contains shopping ...   2020-06-03   \n",
       "338445  From 1975 to 2015, the number of hospital beds...   2022-03-16   \n",
       "338446  Throughout the recent coronavirus disease 2019...   2022-01-25   \n",
       "\n",
       "                                      doi  length_body  length_abstract  \n",
       "0                     10.3390/jcm10040735         2869              222  \n",
       "1               10.3390/molecules26041116         2248               27  \n",
       "2                       10.3390/s21041477        15971               20  \n",
       "3       10.1161/circulationaha.120.053439         1306                0  \n",
       "4                     10.7554/elife.61142         4805              186  \n",
       "...                                   ...          ...              ...  \n",
       "338442         10.1016/j.jagp.2020.05.018         1435              150  \n",
       "338443         10.1007/s11606-020-06159-5          970                0  \n",
       "338444             10.3201/eid2606.200452         1591               50  \n",
       "338445       10.1097/cce.0000000000000660         2934              305  \n",
       "338446                10.3390/jcm11030600         2923              218  \n",
       "\n",
       "[338447 rows x 8 columns]"
      ]
     },
     "execution_count": 65,
     "metadata": {},
     "output_type": "execute_result"
    }
   ],
   "source": [
    "df_en = pd.concat([df_en_title, df_en_no_title], ignore_index=True)\n",
    "df_en"
   ]
  },
  {
   "cell_type": "code",
   "execution_count": 118,
   "metadata": {},
   "outputs": [],
   "source": [
    "df_en.to_csv('./CSV/dataframe_english_update_title.csv', index=False)"
   ]
  },
  {
   "cell_type": "markdown",
   "metadata": {},
   "source": [
    "### Tính tần suất xuất hiện của các từ"
   ]
  },
  {
   "cell_type": "markdown",
   "metadata": {},
   "source": [
    "#### Các từ xuất hiện nhiều nhất"
   ]
  },
  {
   "cell_type": "code",
   "execution_count": 75,
   "metadata": {},
   "outputs": [],
   "source": [
    "df_en_ = df_en.copy()"
   ]
  },
  {
   "cell_type": "code",
   "execution_count": 76,
   "metadata": {},
   "outputs": [],
   "source": [
    "stopwords = set(stopwords.words('english'))\n",
    "\n",
    "def clean_word(text):\n",
    "    if not isinstance(text, str):  # Kiểm tra kiểu dữ liệu\n",
    "        return []\n",
    "    text = text.lower()\n",
    "    text = re.sub(r'[^\\w\\s]', '', text) #loai bo dau cau\n",
    "    text = re.sub(r'\\d+', '', text) # loai bo so\n",
    "    words = text.split()\n",
    "    words = [word for word in words if word not in stopwords] # loai bo stop word\n",
    "    return words\n",
    "\n",
    "def process_text_parallel(text_data):\n",
    "    all_words = []\n",
    "    with concurrent.futures.ThreadPoolExecutor() as executor:\n",
    "        # Xử lý song song và theo dõi tiến độ với tqdm\n",
    "        results = list(tqdm(executor.map(clean_word, text_data), total=len(text_data), desc=\"Processing abstracts\"))\n",
    "        for words in results:\n",
    "            all_words.extend(words)\n",
    "    return all_words"
   ]
  },
  {
   "cell_type": "code",
   "execution_count": 77,
   "metadata": {},
   "outputs": [
    {
     "name": "stderr",
     "output_type": "stream",
     "text": [
      "Processing abstracts: 100%|██████████| 338447/338447 [00:00<00:00, 365270.11it/s]\n"
     ]
    },
    {
     "data": {
      "text/plain": [
       "[('covid', 483995),\n",
       " ('patients', 320534),\n",
       " ('study', 215257),\n",
       " ('sarscov', 204622),\n",
       " ('health', 190810),\n",
       " ('p', 184636),\n",
       " ('pandemic', 172538),\n",
       " ('data', 150979),\n",
       " ('results', 150067),\n",
       " ('disease', 148923),\n",
       " ('r', 122550),\n",
       " ('infection', 118448),\n",
       " ('using', 117719),\n",
       " ('clinical', 106594),\n",
       " ('care', 103069),\n",
       " ('risk', 100825),\n",
       " ('used', 97561),\n",
       " ('also', 96101),\n",
       " ('may', 95691),\n",
       " ('n', 94885)]"
      ]
     },
     "execution_count": 77,
     "metadata": {},
     "output_type": "execute_result"
    }
   ],
   "source": [
    "text_data = df_en_['abstract']\n",
    "all_words = process_text_parallel(text_data)\n",
    "word_counts = Counter(all_words)\n",
    "most_common_word = word_counts.most_common(20)\n",
    "most_common_word"
   ]
  },
  {
   "cell_type": "markdown",
   "metadata": {},
   "source": [
    "#### Tần suất xuất hiện của từng keyword liên quan đến COVID-19 trong từng bài báo"
   ]
  },
  {
   "cell_type": "code",
   "execution_count": 81,
   "metadata": {},
   "outputs": [
    {
     "name": "stderr",
     "output_type": "stream",
     "text": [
      "Counting keywords: 100%|██████████| 338447/338447 [03:45<00:00, 1500.06it/s]  \n"
     ]
    }
   ],
   "source": [
    "keywords = ['covid', 'covid19', 'sarscov', 'sarscov2', 'pandemic', 'pandemics', 'infection', 'infections', 'infect', 'infected', 'infecting', 'infectious']\n",
    "df_en_count_keywords = count_keywords_parallel(df_en_, keywords)"
   ]
  },
  {
   "cell_type": "code",
   "execution_count": 84,
   "metadata": {},
   "outputs": [],
   "source": [
    "df_en_count_keywords = df_en_.copy()"
   ]
  },
  {
   "cell_type": "code",
   "execution_count": 86,
   "metadata": {},
   "outputs": [],
   "source": [
    "df_en_count_keywords['relatate_covid'] = df_en_count_keywords[['covid', 'covid19', 'sarscov', 'sarscov2']].sum(axis=1)\n",
    "df_en_count_keywords['relatate_pademic'] = df_en_count_keywords[['pandemic', 'pandemics']].sum(axis=1)\n",
    "df_en_count_keywords['relatate_infection'] = df_en_count_keywords[['infection', 'infections', 'infect', 'infected', 'infecting', 'infectious']].sum(axis=1)"
   ]
  },
  {
   "cell_type": "code",
   "execution_count": 88,
   "metadata": {},
   "outputs": [
    {
     "data": {
      "text/html": [
       "<div>\n",
       "<style scoped>\n",
       "    .dataframe tbody tr th:only-of-type {\n",
       "        vertical-align: middle;\n",
       "    }\n",
       "\n",
       "    .dataframe tbody tr th {\n",
       "        vertical-align: top;\n",
       "    }\n",
       "\n",
       "    .dataframe thead th {\n",
       "        text-align: right;\n",
       "    }\n",
       "</style>\n",
       "<table border=\"1\" class=\"dataframe\">\n",
       "  <thead>\n",
       "    <tr style=\"text-align: right;\">\n",
       "      <th></th>\n",
       "      <th>paper_id</th>\n",
       "      <th>title</th>\n",
       "      <th>abstract</th>\n",
       "      <th>body_text</th>\n",
       "      <th>publish_time</th>\n",
       "      <th>doi</th>\n",
       "      <th>length_body</th>\n",
       "      <th>length_abstract</th>\n",
       "      <th>relatate_covid</th>\n",
       "      <th>relatate_pademic</th>\n",
       "      <th>relatate_infection</th>\n",
       "    </tr>\n",
       "  </thead>\n",
       "  <tbody>\n",
       "    <tr>\n",
       "      <th>0</th>\n",
       "      <td>dbeef041d98f24a132d0b6056c5c8f6676cde3ce</td>\n",
       "      <td>Clinical Medicine Subcutaneous, Paracardiac, a...</td>\n",
       "      <td>Adipose tissue, in particular epicardial adipo...</td>\n",
       "      <td>Epicardial adipose tissue is a metabolically a...</td>\n",
       "      <td>2021-02-12</td>\n",
       "      <td>10.3390/jcm10040735</td>\n",
       "      <td>2869</td>\n",
       "      <td>222</td>\n",
       "      <td>0</td>\n",
       "      <td>0</td>\n",
       "      <td>1</td>\n",
       "    </tr>\n",
       "    <tr>\n",
       "      <th>1</th>\n",
       "      <td>7109a206b02f37f65e73371d0dd38dc06478ef8f</td>\n",
       "      <td>molecules Efficient Regioselective Synthesis o...</td>\n",
       "      <td>Citation: Potapov, V.A.; Ishigeev, R.S.; Amoso...</td>\n",
       "      <td>The quinoline ring continues to occupy an impo...</td>\n",
       "      <td>2021-02-20</td>\n",
       "      <td>10.3390/molecules26041116</td>\n",
       "      <td>2248</td>\n",
       "      <td>27</td>\n",
       "      <td>1</td>\n",
       "      <td>0</td>\n",
       "      <td>0</td>\n",
       "    </tr>\n",
       "    <tr>\n",
       "      <th>2</th>\n",
       "      <td>33f289415db6fbb99204b8fefba9c9d6334a0721</td>\n",
       "      <td>Distributed Architecture for Unmanned Vehicle ...</td>\n",
       "      <td>Citation: Ramos, J.; Ribeiro, R.; Safadinho, D...</td>\n",
       "      <td>The evolution of the technology is raising new...</td>\n",
       "      <td>2021-02-20</td>\n",
       "      <td>10.3390/s21041477</td>\n",
       "      <td>15971</td>\n",
       "      <td>20</td>\n",
       "      <td>0</td>\n",
       "      <td>0</td>\n",
       "      <td>0</td>\n",
       "    </tr>\n",
       "    <tr>\n",
       "      <th>3</th>\n",
       "      <td>00767c9591083b810350e0355530511685bbc78d</td>\n",
       "      <td>Circulation</td>\n",
       "      <td>NaN</td>\n",
       "      <td>A s we write these words, the United States is...</td>\n",
       "      <td>2021-03-02</td>\n",
       "      <td>10.1161/circulationaha.120.053439</td>\n",
       "      <td>1306</td>\n",
       "      <td>0</td>\n",
       "      <td>16</td>\n",
       "      <td>7</td>\n",
       "      <td>2</td>\n",
       "    </tr>\n",
       "    <tr>\n",
       "      <th>4</th>\n",
       "      <td>b3aca91aac270c16d8374e753823e9deb055a92c</td>\n",
       "      <td>Epidemiological transition to mortality and re...</td>\n",
       "      <td>This study sought to redefine the concept of f...</td>\n",
       "      <td>Fracture due to osteoporosis imposes a signifi...</td>\n",
       "      <td>2021-02-09</td>\n",
       "      <td>10.7554/elife.61142</td>\n",
       "      <td>4805</td>\n",
       "      <td>186</td>\n",
       "      <td>0</td>\n",
       "      <td>0</td>\n",
       "      <td>0</td>\n",
       "    </tr>\n",
       "    <tr>\n",
       "      <th>...</th>\n",
       "      <td>...</td>\n",
       "      <td>...</td>\n",
       "      <td>...</td>\n",
       "      <td>...</td>\n",
       "      <td>...</td>\n",
       "      <td>...</td>\n",
       "      <td>...</td>\n",
       "      <td>...</td>\n",
       "      <td>...</td>\n",
       "      <td>...</td>\n",
       "      <td>...</td>\n",
       "    </tr>\n",
       "    <tr>\n",
       "      <th>338442</th>\n",
       "      <td>7ecbd7671283fa2c0adea0e94550c98d244bf903</td>\n",
       "      <td>COVID-19-Related Loneliness and Psychiatric Sy...</td>\n",
       "      <td>OBJECTIVES: The study examined whether subject...</td>\n",
       "      <td>In response to the Coronavirus disease 2019 (C...</td>\n",
       "      <td>2020-05-27</td>\n",
       "      <td>10.1016/j.jagp.2020.05.018</td>\n",
       "      <td>1435</td>\n",
       "      <td>150</td>\n",
       "      <td>13</td>\n",
       "      <td>10</td>\n",
       "      <td>0</td>\n",
       "    </tr>\n",
       "    <tr>\n",
       "      <th>338443</th>\n",
       "      <td>23d86d693951eb3161bce8d671aee3eaacaf7c67</td>\n",
       "      <td>Home Sick with Coronavirus Symptoms: a Nationa...</td>\n",
       "      <td>NaN</td>\n",
       "      <td>Reports from hospitals and locales 1 have high...</td>\n",
       "      <td>2020-09-10</td>\n",
       "      <td>10.1007/s11606-020-06159-5</td>\n",
       "      <td>970</td>\n",
       "      <td>0</td>\n",
       "      <td>8</td>\n",
       "      <td>1</td>\n",
       "      <td>4</td>\n",
       "    </tr>\n",
       "    <tr>\n",
       "      <th>338444</th>\n",
       "      <td>b255f4993abde42cc1ba60587e4554bcddbfcd1a</td>\n",
       "      <td>COVID-19 in 2 Persons with Mild Upper Respirat...</td>\n",
       "      <td>We describe 2 cases of coronavirus disease in ...</td>\n",
       "      <td>shopping space, and floor 7 contains shopping ...</td>\n",
       "      <td>2020-06-03</td>\n",
       "      <td>10.3201/eid2606.200452</td>\n",
       "      <td>1591</td>\n",
       "      <td>50</td>\n",
       "      <td>17</td>\n",
       "      <td>1</td>\n",
       "      <td>5</td>\n",
       "    </tr>\n",
       "    <tr>\n",
       "      <th>338445</th>\n",
       "      <td>20f7d192985e71c78a37996490768b8a43d7c61b</td>\n",
       "      <td>Accelerated Critical Therapy Now in the Emerge...</td>\n",
       "      <td>Evaluate the impact of an emergency department...</td>\n",
       "      <td>From 1975 to 2015, the number of hospital beds...</td>\n",
       "      <td>2022-03-16</td>\n",
       "      <td>10.1097/cce.0000000000000660</td>\n",
       "      <td>2934</td>\n",
       "      <td>305</td>\n",
       "      <td>2</td>\n",
       "      <td>2</td>\n",
       "      <td>0</td>\n",
       "    </tr>\n",
       "    <tr>\n",
       "      <th>338446</th>\n",
       "      <td>0a96d19a472a86b64e0fbd33b71aa1765963636c</td>\n",
       "      <td>Experience with Cutaneous Manifestations in CO...</td>\n",
       "      <td>After the beginning of the SARS-CoV-2 pandemic...</td>\n",
       "      <td>Throughout the recent coronavirus disease 2019...</td>\n",
       "      <td>2022-01-25</td>\n",
       "      <td>10.3390/jcm11030600</td>\n",
       "      <td>2923</td>\n",
       "      <td>218</td>\n",
       "      <td>36</td>\n",
       "      <td>9</td>\n",
       "      <td>8</td>\n",
       "    </tr>\n",
       "  </tbody>\n",
       "</table>\n",
       "<p>338447 rows × 11 columns</p>\n",
       "</div>"
      ],
      "text/plain": [
       "                                        paper_id  \\\n",
       "0       dbeef041d98f24a132d0b6056c5c8f6676cde3ce   \n",
       "1       7109a206b02f37f65e73371d0dd38dc06478ef8f   \n",
       "2       33f289415db6fbb99204b8fefba9c9d6334a0721   \n",
       "3       00767c9591083b810350e0355530511685bbc78d   \n",
       "4       b3aca91aac270c16d8374e753823e9deb055a92c   \n",
       "...                                          ...   \n",
       "338442  7ecbd7671283fa2c0adea0e94550c98d244bf903   \n",
       "338443  23d86d693951eb3161bce8d671aee3eaacaf7c67   \n",
       "338444  b255f4993abde42cc1ba60587e4554bcddbfcd1a   \n",
       "338445  20f7d192985e71c78a37996490768b8a43d7c61b   \n",
       "338446  0a96d19a472a86b64e0fbd33b71aa1765963636c   \n",
       "\n",
       "                                                    title  \\\n",
       "0       Clinical Medicine Subcutaneous, Paracardiac, a...   \n",
       "1       molecules Efficient Regioselective Synthesis o...   \n",
       "2       Distributed Architecture for Unmanned Vehicle ...   \n",
       "3                                             Circulation   \n",
       "4       Epidemiological transition to mortality and re...   \n",
       "...                                                   ...   \n",
       "338442  COVID-19-Related Loneliness and Psychiatric Sy...   \n",
       "338443  Home Sick with Coronavirus Symptoms: a Nationa...   \n",
       "338444  COVID-19 in 2 Persons with Mild Upper Respirat...   \n",
       "338445  Accelerated Critical Therapy Now in the Emerge...   \n",
       "338446  Experience with Cutaneous Manifestations in CO...   \n",
       "\n",
       "                                                 abstract  \\\n",
       "0       Adipose tissue, in particular epicardial adipo...   \n",
       "1       Citation: Potapov, V.A.; Ishigeev, R.S.; Amoso...   \n",
       "2       Citation: Ramos, J.; Ribeiro, R.; Safadinho, D...   \n",
       "3                                                     NaN   \n",
       "4       This study sought to redefine the concept of f...   \n",
       "...                                                   ...   \n",
       "338442  OBJECTIVES: The study examined whether subject...   \n",
       "338443                                                NaN   \n",
       "338444  We describe 2 cases of coronavirus disease in ...   \n",
       "338445  Evaluate the impact of an emergency department...   \n",
       "338446  After the beginning of the SARS-CoV-2 pandemic...   \n",
       "\n",
       "                                                body_text publish_time  \\\n",
       "0       Epicardial adipose tissue is a metabolically a...   2021-02-12   \n",
       "1       The quinoline ring continues to occupy an impo...   2021-02-20   \n",
       "2       The evolution of the technology is raising new...   2021-02-20   \n",
       "3       A s we write these words, the United States is...   2021-03-02   \n",
       "4       Fracture due to osteoporosis imposes a signifi...   2021-02-09   \n",
       "...                                                   ...          ...   \n",
       "338442  In response to the Coronavirus disease 2019 (C...   2020-05-27   \n",
       "338443  Reports from hospitals and locales 1 have high...   2020-09-10   \n",
       "338444  shopping space, and floor 7 contains shopping ...   2020-06-03   \n",
       "338445  From 1975 to 2015, the number of hospital beds...   2022-03-16   \n",
       "338446  Throughout the recent coronavirus disease 2019...   2022-01-25   \n",
       "\n",
       "                                      doi  length_body  length_abstract  \\\n",
       "0                     10.3390/jcm10040735         2869              222   \n",
       "1               10.3390/molecules26041116         2248               27   \n",
       "2                       10.3390/s21041477        15971               20   \n",
       "3       10.1161/circulationaha.120.053439         1306                0   \n",
       "4                     10.7554/elife.61142         4805              186   \n",
       "...                                   ...          ...              ...   \n",
       "338442         10.1016/j.jagp.2020.05.018         1435              150   \n",
       "338443         10.1007/s11606-020-06159-5          970                0   \n",
       "338444             10.3201/eid2606.200452         1591               50   \n",
       "338445       10.1097/cce.0000000000000660         2934              305   \n",
       "338446                10.3390/jcm11030600         2923              218   \n",
       "\n",
       "        relatate_covid  relatate_pademic  relatate_infection  \n",
       "0                    0                 0                   1  \n",
       "1                    1                 0                   0  \n",
       "2                    0                 0                   0  \n",
       "3                   16                 7                   2  \n",
       "4                    0                 0                   0  \n",
       "...                ...               ...                 ...  \n",
       "338442              13                10                   0  \n",
       "338443               8                 1                   4  \n",
       "338444              17                 1                   5  \n",
       "338445               2                 2                   0  \n",
       "338446              36                 9                   8  \n",
       "\n",
       "[338447 rows x 11 columns]"
      ]
     },
     "execution_count": 88,
     "metadata": {},
     "output_type": "execute_result"
    }
   ],
   "source": [
    "df_en_count_keywords.drop([key for key in keywords], axis=1, inplace=True)\n",
    "df_en_count_keywords"
   ]
  },
  {
   "cell_type": "code",
   "execution_count": 92,
   "metadata": {},
   "outputs": [
    {
     "data": {
      "text/html": [
       "<div>\n",
       "<style scoped>\n",
       "    .dataframe tbody tr th:only-of-type {\n",
       "        vertical-align: middle;\n",
       "    }\n",
       "\n",
       "    .dataframe tbody tr th {\n",
       "        vertical-align: top;\n",
       "    }\n",
       "\n",
       "    .dataframe thead th {\n",
       "        text-align: right;\n",
       "    }\n",
       "</style>\n",
       "<table border=\"1\" class=\"dataframe\">\n",
       "  <thead>\n",
       "    <tr style=\"text-align: right;\">\n",
       "      <th></th>\n",
       "      <th>paper_id</th>\n",
       "      <th>title</th>\n",
       "      <th>abstract</th>\n",
       "      <th>body_text</th>\n",
       "      <th>publish_time</th>\n",
       "      <th>doi</th>\n",
       "      <th>length_body</th>\n",
       "      <th>length_abstract</th>\n",
       "      <th>relatate_covid</th>\n",
       "      <th>relatate_pademic</th>\n",
       "      <th>relatate_infection</th>\n",
       "      <th>sum_relatate_keyword</th>\n",
       "    </tr>\n",
       "  </thead>\n",
       "  <tbody>\n",
       "    <tr>\n",
       "      <th>177620</th>\n",
       "      <td>50755c34919777753622998f4dd5c03fc3229008</td>\n",
       "      <td>Janssen Vaccines &amp; Prevention B.V.* Clinical P...</td>\n",
       "      <td>BACKGROUND: The Ad26.COV2.S vaccine was highly...</td>\n",
       "      <td>To evaluate the efficacy of Ad26.COV2.S in the...</td>\n",
       "      <td>2022-02-09</td>\n",
       "      <td>10.1056/nejmoa2117608</td>\n",
       "      <td>137082</td>\n",
       "      <td>361</td>\n",
       "      <td>1362</td>\n",
       "      <td>18</td>\n",
       "      <td>389</td>\n",
       "      <td>1769</td>\n",
       "    </tr>\n",
       "    <tr>\n",
       "      <th>219190</th>\n",
       "      <td>5585d3e92e7d80de9c67f755a8934e34a92ac846</td>\n",
       "      <td>Janssen Vaccines &amp; Prevention B.V.* Clinical P...</td>\n",
       "      <td>BACKGROUND: The Ad26.COV2.S vaccine is a recom...</td>\n",
       "      <td>To evaluate the efficacy of Ad26.COV2.S in the...</td>\n",
       "      <td>2021-04-21</td>\n",
       "      <td>10.1056/nejmoa2101544</td>\n",
       "      <td>117531</td>\n",
       "      <td>357</td>\n",
       "      <td>1252</td>\n",
       "      <td>8</td>\n",
       "      <td>362</td>\n",
       "      <td>1622</td>\n",
       "    </tr>\n",
       "    <tr>\n",
       "      <th>77955</th>\n",
       "      <td>bd163b03e7b63545701ee4842f648e9cecef3b22</td>\n",
       "      <td>CLINICAL STUDY PROTOCOL Protocol Title: A Phase 3</td>\n",
       "      <td>BACKGROUND: At interim analysis in a phase 3, ...</td>\n",
       "      <td>PROTOCOL SUMMARY\\nProtocol Number: mRNA-1273-P...</td>\n",
       "      <td>2021-09-22</td>\n",
       "      <td>10.1056/nejmoa2113017</td>\n",
       "      <td>90515</td>\n",
       "      <td>372</td>\n",
       "      <td>1046</td>\n",
       "      <td>20</td>\n",
       "      <td>261</td>\n",
       "      <td>1327</td>\n",
       "    </tr>\n",
       "    <tr>\n",
       "      <th>220943</th>\n",
       "      <td>18166494afe57ec23ed1a04a1740d6e53b5bd38c</td>\n",
       "      <td>Title Page CLINICAL STUDY PROTOCOL A PHASE 3, ...</td>\n",
       "      <td>BACKGROUND: Early clinical data from studies o...</td>\n",
       "      <td>Approximately 9,000 male and female adult part...</td>\n",
       "      <td>2021-06-30</td>\n",
       "      <td>10.1056/nejmoa2107659</td>\n",
       "      <td>81644</td>\n",
       "      <td>336</td>\n",
       "      <td>1207</td>\n",
       "      <td>20</td>\n",
       "      <td>92</td>\n",
       "      <td>1319</td>\n",
       "    </tr>\n",
       "    <tr>\n",
       "      <th>97191</th>\n",
       "      <td>8b3636359ecd62f4b7d40c9404880be4c687d94b</td>\n",
       "      <td>Protocol</td>\n",
       "      <td>BACKGROUND: REGEN-COV (previously known as REG...</td>\n",
       "      <td>A strict definition of COVID-19 signs and symp...</td>\n",
       "      <td>2021-08-04</td>\n",
       "      <td>10.1056/nejmoa2109682</td>\n",
       "      <td>74083</td>\n",
       "      <td>358</td>\n",
       "      <td>879</td>\n",
       "      <td>7</td>\n",
       "      <td>432</td>\n",
       "      <td>1318</td>\n",
       "    </tr>\n",
       "    <tr>\n",
       "      <th>...</th>\n",
       "      <td>...</td>\n",
       "      <td>...</td>\n",
       "      <td>...</td>\n",
       "      <td>...</td>\n",
       "      <td>...</td>\n",
       "      <td>...</td>\n",
       "      <td>...</td>\n",
       "      <td>...</td>\n",
       "      <td>...</td>\n",
       "      <td>...</td>\n",
       "      <td>...</td>\n",
       "      <td>...</td>\n",
       "    </tr>\n",
       "    <tr>\n",
       "      <th>40232</th>\n",
       "      <td>da422148d02881acfc95b25a39133e4f34e5cbd5</td>\n",
       "      <td>Discovering Novel Antimicrobial Peptides in Ge...</td>\n",
       "      <td>14</td>\n",
       "      <td>The increasing number of clinical antibiotic r...</td>\n",
       "      <td>2021-11-23</td>\n",
       "      <td>10.1101/2021.11.22.469634</td>\n",
       "      <td>1616</td>\n",
       "      <td>1</td>\n",
       "      <td>0</td>\n",
       "      <td>0</td>\n",
       "      <td>0</td>\n",
       "      <td>0</td>\n",
       "    </tr>\n",
       "    <tr>\n",
       "      <th>40236</th>\n",
       "      <td>febd4404187eb35fcc2ba9dc4b46b844d2fea604</td>\n",
       "      <td>Title: Temporally-specific sequences of neural...</td>\n",
       "      <td>FIGURES 8 TABLES 2 PAGES 42 TEXT Abstract: 147...</td>\n",
       "      <td>Corticolimbic areas are central to neural circ...</td>\n",
       "      <td>2020-12-18</td>\n",
       "      <td>10.1101/2020.12.17.423162</td>\n",
       "      <td>11364</td>\n",
       "      <td>208</td>\n",
       "      <td>0</td>\n",
       "      <td>0</td>\n",
       "      <td>0</td>\n",
       "      <td>0</td>\n",
       "    </tr>\n",
       "    <tr>\n",
       "      <th>17543</th>\n",
       "      <td>bdbaf05dedaf2c4c89a03371b5e10b0dfdd481e5</td>\n",
       "      <td>Proportional assist ventilation versus pressur...</td>\n",
       "      <td>Background: Pressure support ventilation (PSV)...</td>\n",
       "      <td>Acute respiratory failure and intubation is a ...</td>\n",
       "      <td>2020-09-14</td>\n",
       "      <td>10.1186/s13054-020-03251-4</td>\n",
       "      <td>3277</td>\n",
       "      <td>248</td>\n",
       "      <td>0</td>\n",
       "      <td>0</td>\n",
       "      <td>0</td>\n",
       "      <td>0</td>\n",
       "    </tr>\n",
       "    <tr>\n",
       "      <th>107001</th>\n",
       "      <td>eb9705164ecea5b9d0d94471f302265b795de38a</td>\n",
       "      <td>Brain tumor segmentation based on deep learnin...</td>\n",
       "      <td>Brain tumor localization and segmentation from...</td>\n",
       "      <td>(1) Machine learning approaches address these ...</td>\n",
       "      <td>2021-05-25</td>\n",
       "      <td>10.1038/s41598-021-90428-8</td>\n",
       "      <td>5670</td>\n",
       "      <td>546</td>\n",
       "      <td>0</td>\n",
       "      <td>0</td>\n",
       "      <td>0</td>\n",
       "      <td>0</td>\n",
       "    </tr>\n",
       "    <tr>\n",
       "      <th>25</th>\n",
       "      <td>b475c5010d3111ab8ff43be9238a854737a5454a</td>\n",
       "      <td>Distinct Ultrafine Particle Profiles Associate...</td>\n",
       "      <td>The Mobile ObserVations of Ultrafine Particles...</td>\n",
       "      <td>The health effects associated with PM 2.5 [par...</td>\n",
       "      <td>2021-02-05</td>\n",
       "      <td>10.1021/acs.est.0c05933</td>\n",
       "      <td>5300</td>\n",
       "      <td>164</td>\n",
       "      <td>0</td>\n",
       "      <td>0</td>\n",
       "      <td>0</td>\n",
       "      <td>0</td>\n",
       "    </tr>\n",
       "  </tbody>\n",
       "</table>\n",
       "<p>338447 rows × 12 columns</p>\n",
       "</div>"
      ],
      "text/plain": [
       "                                        paper_id  \\\n",
       "177620  50755c34919777753622998f4dd5c03fc3229008   \n",
       "219190  5585d3e92e7d80de9c67f755a8934e34a92ac846   \n",
       "77955   bd163b03e7b63545701ee4842f648e9cecef3b22   \n",
       "220943  18166494afe57ec23ed1a04a1740d6e53b5bd38c   \n",
       "97191   8b3636359ecd62f4b7d40c9404880be4c687d94b   \n",
       "...                                          ...   \n",
       "40232   da422148d02881acfc95b25a39133e4f34e5cbd5   \n",
       "40236   febd4404187eb35fcc2ba9dc4b46b844d2fea604   \n",
       "17543   bdbaf05dedaf2c4c89a03371b5e10b0dfdd481e5   \n",
       "107001  eb9705164ecea5b9d0d94471f302265b795de38a   \n",
       "25      b475c5010d3111ab8ff43be9238a854737a5454a   \n",
       "\n",
       "                                                    title  \\\n",
       "177620  Janssen Vaccines & Prevention B.V.* Clinical P...   \n",
       "219190  Janssen Vaccines & Prevention B.V.* Clinical P...   \n",
       "77955   CLINICAL STUDY PROTOCOL Protocol Title: A Phase 3   \n",
       "220943  Title Page CLINICAL STUDY PROTOCOL A PHASE 3, ...   \n",
       "97191                                            Protocol   \n",
       "...                                                   ...   \n",
       "40232   Discovering Novel Antimicrobial Peptides in Ge...   \n",
       "40236   Title: Temporally-specific sequences of neural...   \n",
       "17543   Proportional assist ventilation versus pressur...   \n",
       "107001  Brain tumor segmentation based on deep learnin...   \n",
       "25      Distinct Ultrafine Particle Profiles Associate...   \n",
       "\n",
       "                                                 abstract  \\\n",
       "177620  BACKGROUND: The Ad26.COV2.S vaccine was highly...   \n",
       "219190  BACKGROUND: The Ad26.COV2.S vaccine is a recom...   \n",
       "77955   BACKGROUND: At interim analysis in a phase 3, ...   \n",
       "220943  BACKGROUND: Early clinical data from studies o...   \n",
       "97191   BACKGROUND: REGEN-COV (previously known as REG...   \n",
       "...                                                   ...   \n",
       "40232                                                  14   \n",
       "40236   FIGURES 8 TABLES 2 PAGES 42 TEXT Abstract: 147...   \n",
       "17543   Background: Pressure support ventilation (PSV)...   \n",
       "107001  Brain tumor localization and segmentation from...   \n",
       "25      The Mobile ObserVations of Ultrafine Particles...   \n",
       "\n",
       "                                                body_text publish_time  \\\n",
       "177620  To evaluate the efficacy of Ad26.COV2.S in the...   2022-02-09   \n",
       "219190  To evaluate the efficacy of Ad26.COV2.S in the...   2021-04-21   \n",
       "77955   PROTOCOL SUMMARY\\nProtocol Number: mRNA-1273-P...   2021-09-22   \n",
       "220943  Approximately 9,000 male and female adult part...   2021-06-30   \n",
       "97191   A strict definition of COVID-19 signs and symp...   2021-08-04   \n",
       "...                                                   ...          ...   \n",
       "40232   The increasing number of clinical antibiotic r...   2021-11-23   \n",
       "40236   Corticolimbic areas are central to neural circ...   2020-12-18   \n",
       "17543   Acute respiratory failure and intubation is a ...   2020-09-14   \n",
       "107001  (1) Machine learning approaches address these ...   2021-05-25   \n",
       "25      The health effects associated with PM 2.5 [par...   2021-02-05   \n",
       "\n",
       "                               doi  length_body  length_abstract  \\\n",
       "177620       10.1056/nejmoa2117608       137082              361   \n",
       "219190       10.1056/nejmoa2101544       117531              357   \n",
       "77955        10.1056/nejmoa2113017        90515              372   \n",
       "220943       10.1056/nejmoa2107659        81644              336   \n",
       "97191        10.1056/nejmoa2109682        74083              358   \n",
       "...                            ...          ...              ...   \n",
       "40232    10.1101/2021.11.22.469634         1616                1   \n",
       "40236    10.1101/2020.12.17.423162        11364              208   \n",
       "17543   10.1186/s13054-020-03251-4         3277              248   \n",
       "107001  10.1038/s41598-021-90428-8         5670              546   \n",
       "25         10.1021/acs.est.0c05933         5300              164   \n",
       "\n",
       "        relatate_covid  relatate_pademic  relatate_infection  \\\n",
       "177620            1362                18                 389   \n",
       "219190            1252                 8                 362   \n",
       "77955             1046                20                 261   \n",
       "220943            1207                20                  92   \n",
       "97191              879                 7                 432   \n",
       "...                ...               ...                 ...   \n",
       "40232                0                 0                   0   \n",
       "40236                0                 0                   0   \n",
       "17543                0                 0                   0   \n",
       "107001               0                 0                   0   \n",
       "25                   0                 0                   0   \n",
       "\n",
       "        sum_relatate_keyword  \n",
       "177620                  1769  \n",
       "219190                  1622  \n",
       "77955                   1327  \n",
       "220943                  1319  \n",
       "97191                   1318  \n",
       "...                      ...  \n",
       "40232                      0  \n",
       "40236                      0  \n",
       "17543                      0  \n",
       "107001                     0  \n",
       "25                         0  \n",
       "\n",
       "[338447 rows x 12 columns]"
      ]
     },
     "execution_count": 92,
     "metadata": {},
     "output_type": "execute_result"
    }
   ],
   "source": [
    "df_en_count_keywords['sum_relatate_keyword'] = df_en_count_keywords[['relatate_covid', 'relatate_pademic', 'relatate_infection']].sum(axis=1)\n",
    "df_en_count_keywords.sort_values('sum_relatate_keyword', ascending=False)"
   ]
  },
  {
   "cell_type": "code",
   "execution_count": 93,
   "metadata": {},
   "outputs": [],
   "source": [
    "df_en_count_keywords = df_en_count_keywords[df_en_count_keywords['sum_relatate_keyword'] > 0]"
   ]
  },
  {
   "cell_type": "markdown",
   "metadata": {},
   "source": [
    "#### Lọc theo tổng số keyword và độ dài bài báo"
   ]
  },
  {
   "cell_type": "markdown",
   "metadata": {},
   "source": [
    "Tính tỷ lệ giữa keyword và độ dài bài báo"
   ]
  },
  {
   "cell_type": "code",
   "execution_count": 95,
   "metadata": {},
   "outputs": [
    {
     "data": {
      "text/plain": [
       "0.8930005911482433"
      ]
     },
     "execution_count": 95,
     "metadata": {},
     "output_type": "execute_result"
    }
   ],
   "source": [
    "(sum(df_en_count_keywords['sum_relatate_keyword']) / sum(df_en_count_keywords['length_body'])) * 100"
   ]
  },
  {
   "cell_type": "markdown",
   "metadata": {},
   "source": [
    "Lọc các bài báo có tỷ lệ keyword lớn hơn tỷ lệ trung bình"
   ]
  },
  {
   "cell_type": "code",
   "execution_count": 97,
   "metadata": {},
   "outputs": [],
   "source": [
    "df_en_count_keywords_upadate = df_en_count_keywords[df_en_count_keywords['sum_relatate_keyword'] >= (df_en_count_keywords['length_body'])*(0.9/100)]"
   ]
  },
  {
   "cell_type": "markdown",
   "metadata": {},
   "source": [
    "#### Lọc bài báo theo độ dài body"
   ]
  },
  {
   "cell_type": "code",
   "execution_count": 100,
   "metadata": {},
   "outputs": [
    {
     "data": {
      "text/plain": [
       "count    169663.000000\n",
       "mean       2842.491015\n",
       "std        2297.572749\n",
       "min           7.000000\n",
       "25%        1201.000000\n",
       "50%        2458.000000\n",
       "75%        3838.000000\n",
       "max      137082.000000\n",
       "Name: length_body, dtype: float64"
      ]
     },
     "execution_count": 100,
     "metadata": {},
     "output_type": "execute_result"
    }
   ],
   "source": [
    "df_en_count_keywords_upadate['length_body'].describe()"
   ]
  },
  {
   "cell_type": "code",
   "execution_count": 101,
   "metadata": {},
   "outputs": [
    {
     "data": {
      "image/png": "[encoded data removed]",
      "text/plain": [
       "<Figure size 640x480 with 1 Axes>"
      ]
     },
     "metadata": {},
     "output_type": "display_data"
    }
   ],
   "source": [
    "# Vẽ boxplot cho cột 'length_body'\n",
    "sns.boxplot(x=df_en_count_keywords_upadate['length_body'])\n",
    "\n",
    "# Thêm tiêu đề và nhãn\n",
    "plt.title(\"Boxplot for 'length_body'\")\n",
    "plt.xlabel(\"Length of Body\")\n",
    "\n",
    "# Hiển thị biểu đồ\n",
    "plt.show()"
   ]
  },
  {
   "cell_type": "markdown",
   "metadata": {},
   "source": [
    "Lọc các bài báo có số từ trong body lớn hơn phân vị thứ 25"
   ]
  },
  {
   "cell_type": "code",
   "execution_count": 112,
   "metadata": {},
   "outputs": [],
   "source": [
    "df_en_count_keywords_upadate1 = df_en_count_keywords_upadate[df_en_count_keywords_upadate['length_body'] >=  int(df_en_count_keywords_upadate['length_body'].quantile(0.5))]"
   ]
  },
  {
   "cell_type": "code",
   "execution_count": 120,
   "metadata": {},
   "outputs": [
    {
     "data": {
      "text/html": [
       "<div>\n",
       "<style scoped>\n",
       "    .dataframe tbody tr th:only-of-type {\n",
       "        vertical-align: middle;\n",
       "    }\n",
       "\n",
       "    .dataframe tbody tr th {\n",
       "        vertical-align: top;\n",
       "    }\n",
       "\n",
       "    .dataframe thead th {\n",
       "        text-align: right;\n",
       "    }\n",
       "</style>\n",
       "<table border=\"1\" class=\"dataframe\">\n",
       "  <thead>\n",
       "    <tr style=\"text-align: right;\">\n",
       "      <th></th>\n",
       "      <th>paper_id</th>\n",
       "      <th>title</th>\n",
       "      <th>abstract</th>\n",
       "      <th>body_text</th>\n",
       "      <th>publish_time</th>\n",
       "      <th>doi</th>\n",
       "      <th>length_body</th>\n",
       "      <th>length_abstract</th>\n",
       "      <th>relatate_covid</th>\n",
       "      <th>relatate_pademic</th>\n",
       "      <th>relatate_infection</th>\n",
       "      <th>sum_relatate_keyword</th>\n",
       "    </tr>\n",
       "  </thead>\n",
       "  <tbody>\n",
       "    <tr>\n",
       "      <th>78167</th>\n",
       "      <td>b2ddb3a0a3cf3388b97b889fad2470196e805116</td>\n",
       "      <td>Relation of Cardiovascular Risk Factors to Mor...</td>\n",
       "      <td>Individuals with established cardiovascular di...</td>\n",
       "      <td>Coronavirus disease 2019 caused by severe acut...</td>\n",
       "      <td>2021-02-01</td>\n",
       "      <td>10.1016/j.amjcard.2021.01.029</td>\n",
       "      <td>2458</td>\n",
       "      <td>252</td>\n",
       "      <td>22</td>\n",
       "      <td>2</td>\n",
       "      <td>8</td>\n",
       "      <td>32</td>\n",
       "    </tr>\n",
       "    <tr>\n",
       "      <th>263000</th>\n",
       "      <td>d3b9ae67a69939ab44edb61ddd36faff8be8028b</td>\n",
       "      <td>Living the Magnet culture</td>\n",
       "      <td>Read about how one nursing team utilized Magne...</td>\n",
       "      <td>Leadership during the COVID-19 pandemic G loba...</td>\n",
       "      <td>2021-11-29</td>\n",
       "      <td>10.1097/01.numa.0000792016.93450.50</td>\n",
       "      <td>2458</td>\n",
       "      <td>25</td>\n",
       "      <td>12</td>\n",
       "      <td>20</td>\n",
       "      <td>3</td>\n",
       "      <td>35</td>\n",
       "    </tr>\n",
       "    <tr>\n",
       "      <th>106702</th>\n",
       "      <td>3cf842979d659c22c5d4407e9baf9d07e176e9ed</td>\n",
       "      <td>Respiratory mechanics and gas exchanges in the...</td>\n",
       "      <td>Rationale: COVID-19 ARDS could differ from typ...</td>\n",
       "      <td>Patients with Covid-19 pneumonia fulfilling Be...</td>\n",
       "      <td>2020-07-16</td>\n",
       "      <td>10.1186/s13613-020-00716-1</td>\n",
       "      <td>2458</td>\n",
       "      <td>262</td>\n",
       "      <td>20</td>\n",
       "      <td>0</td>\n",
       "      <td>3</td>\n",
       "      <td>23</td>\n",
       "    </tr>\n",
       "    <tr>\n",
       "      <th>47352</th>\n",
       "      <td>ead6c3e38fa2cf6d885fb81b7260f62a389bbf7d</td>\n",
       "      <td>0123456789) 1 3 Journal of Racial and Ethnic H...</td>\n",
       "      <td>Disparities in morbidity and mortality related...</td>\n",
       "      <td>Disparities in the USA based on race and ethni...</td>\n",
       "      <td>2021-11-08</td>\n",
       "      <td>10.1007/s40615-021-01175-5</td>\n",
       "      <td>2458</td>\n",
       "      <td>275</td>\n",
       "      <td>24</td>\n",
       "      <td>2</td>\n",
       "      <td>3</td>\n",
       "      <td>29</td>\n",
       "    </tr>\n",
       "    <tr>\n",
       "      <th>123411</th>\n",
       "      <td>e6ece0a802c6d2d9bf04ce47772e658acc84ac74</td>\n",
       "      <td>Industry and workplace characteristics associa...</td>\n",
       "      <td>Background: To combat coronavirus disease 2019...</td>\n",
       "      <td>A number of countries have used digital contac...</td>\n",
       "      <td>2021-09-21</td>\n",
       "      <td>10.1186/s12199-021-01016-1</td>\n",
       "      <td>2458</td>\n",
       "      <td>268</td>\n",
       "      <td>21</td>\n",
       "      <td>3</td>\n",
       "      <td>8</td>\n",
       "      <td>32</td>\n",
       "    </tr>\n",
       "    <tr>\n",
       "      <th>...</th>\n",
       "      <td>...</td>\n",
       "      <td>...</td>\n",
       "      <td>...</td>\n",
       "      <td>...</td>\n",
       "      <td>...</td>\n",
       "      <td>...</td>\n",
       "      <td>...</td>\n",
       "      <td>...</td>\n",
       "      <td>...</td>\n",
       "      <td>...</td>\n",
       "      <td>...</td>\n",
       "      <td>...</td>\n",
       "    </tr>\n",
       "    <tr>\n",
       "      <th>77955</th>\n",
       "      <td>bd163b03e7b63545701ee4842f648e9cecef3b22</td>\n",
       "      <td>CLINICAL STUDY PROTOCOL Protocol Title: A Phase 3</td>\n",
       "      <td>BACKGROUND: At interim analysis in a phase 3, ...</td>\n",
       "      <td>PROTOCOL SUMMARY\\nProtocol Number: mRNA-1273-P...</td>\n",
       "      <td>2021-09-22</td>\n",
       "      <td>10.1056/nejmoa2113017</td>\n",
       "      <td>90515</td>\n",
       "      <td>372</td>\n",
       "      <td>1046</td>\n",
       "      <td>20</td>\n",
       "      <td>261</td>\n",
       "      <td>1327</td>\n",
       "    </tr>\n",
       "    <tr>\n",
       "      <th>311816</th>\n",
       "      <td>ff5409bd620fe1fceeb7f31959e78906a347f09d</td>\n",
       "      <td>Efficacy and Safety of NVX-CoV2373 in Adults i...</td>\n",
       "      <td>BACKGROUND: NVX-CoV2373 is an adjuvanted, reco...</td>\n",
       "      <td>. OR Severe COVID- 19: ute at rest. . SpO2 2/F...</td>\n",
       "      <td>2021-12-15</td>\n",
       "      <td>10.1056/nejmoa2116185</td>\n",
       "      <td>102150</td>\n",
       "      <td>348</td>\n",
       "      <td>818</td>\n",
       "      <td>23</td>\n",
       "      <td>137</td>\n",
       "      <td>978</td>\n",
       "    </tr>\n",
       "    <tr>\n",
       "      <th>219190</th>\n",
       "      <td>5585d3e92e7d80de9c67f755a8934e34a92ac846</td>\n",
       "      <td>Janssen Vaccines &amp; Prevention B.V.* Clinical P...</td>\n",
       "      <td>BACKGROUND: The Ad26.COV2.S vaccine is a recom...</td>\n",
       "      <td>To evaluate the efficacy of Ad26.COV2.S in the...</td>\n",
       "      <td>2021-04-21</td>\n",
       "      <td>10.1056/nejmoa2101544</td>\n",
       "      <td>117531</td>\n",
       "      <td>357</td>\n",
       "      <td>1252</td>\n",
       "      <td>8</td>\n",
       "      <td>362</td>\n",
       "      <td>1622</td>\n",
       "    </tr>\n",
       "    <tr>\n",
       "      <th>154590</th>\n",
       "      <td>3f93e488c15b4863f12742a184abe1e157c35244</td>\n",
       "      <td>CLINICAL STUDY PROTOCOL Protocol Title: A Phase 3</td>\n",
       "      <td>BACKGROUND: The highly transmissible severe ac...</td>\n",
       "      <td>1. To provide a 50 µg booster dose (BD) of mRN...</td>\n",
       "      <td>2022-01-25</td>\n",
       "      <td>10.1101/2022.01.24.22269666</td>\n",
       "      <td>124062</td>\n",
       "      <td>255</td>\n",
       "      <td>959</td>\n",
       "      <td>23</td>\n",
       "      <td>270</td>\n",
       "      <td>1252</td>\n",
       "    </tr>\n",
       "    <tr>\n",
       "      <th>177620</th>\n",
       "      <td>50755c34919777753622998f4dd5c03fc3229008</td>\n",
       "      <td>Janssen Vaccines &amp; Prevention B.V.* Clinical P...</td>\n",
       "      <td>BACKGROUND: The Ad26.COV2.S vaccine was highly...</td>\n",
       "      <td>To evaluate the efficacy of Ad26.COV2.S in the...</td>\n",
       "      <td>2022-02-09</td>\n",
       "      <td>10.1056/nejmoa2117608</td>\n",
       "      <td>137082</td>\n",
       "      <td>361</td>\n",
       "      <td>1362</td>\n",
       "      <td>18</td>\n",
       "      <td>389</td>\n",
       "      <td>1769</td>\n",
       "    </tr>\n",
       "  </tbody>\n",
       "</table>\n",
       "<p>84856 rows × 12 columns</p>\n",
       "</div>"
      ],
      "text/plain": [
       "                                        paper_id  \\\n",
       "78167   b2ddb3a0a3cf3388b97b889fad2470196e805116   \n",
       "263000  d3b9ae67a69939ab44edb61ddd36faff8be8028b   \n",
       "106702  3cf842979d659c22c5d4407e9baf9d07e176e9ed   \n",
       "47352   ead6c3e38fa2cf6d885fb81b7260f62a389bbf7d   \n",
       "123411  e6ece0a802c6d2d9bf04ce47772e658acc84ac74   \n",
       "...                                          ...   \n",
       "77955   bd163b03e7b63545701ee4842f648e9cecef3b22   \n",
       "311816  ff5409bd620fe1fceeb7f31959e78906a347f09d   \n",
       "219190  5585d3e92e7d80de9c67f755a8934e34a92ac846   \n",
       "154590  3f93e488c15b4863f12742a184abe1e157c35244   \n",
       "177620  50755c34919777753622998f4dd5c03fc3229008   \n",
       "\n",
       "                                                    title  \\\n",
       "78167   Relation of Cardiovascular Risk Factors to Mor...   \n",
       "263000                          Living the Magnet culture   \n",
       "106702  Respiratory mechanics and gas exchanges in the...   \n",
       "47352   0123456789) 1 3 Journal of Racial and Ethnic H...   \n",
       "123411  Industry and workplace characteristics associa...   \n",
       "...                                                   ...   \n",
       "77955   CLINICAL STUDY PROTOCOL Protocol Title: A Phase 3   \n",
       "311816  Efficacy and Safety of NVX-CoV2373 in Adults i...   \n",
       "219190  Janssen Vaccines & Prevention B.V.* Clinical P...   \n",
       "154590  CLINICAL STUDY PROTOCOL Protocol Title: A Phase 3   \n",
       "177620  Janssen Vaccines & Prevention B.V.* Clinical P...   \n",
       "\n",
       "                                                 abstract  \\\n",
       "78167   Individuals with established cardiovascular di...   \n",
       "263000  Read about how one nursing team utilized Magne...   \n",
       "106702  Rationale: COVID-19 ARDS could differ from typ...   \n",
       "47352   Disparities in morbidity and mortality related...   \n",
       "123411  Background: To combat coronavirus disease 2019...   \n",
       "...                                                   ...   \n",
       "77955   BACKGROUND: At interim analysis in a phase 3, ...   \n",
       "311816  BACKGROUND: NVX-CoV2373 is an adjuvanted, reco...   \n",
       "219190  BACKGROUND: The Ad26.COV2.S vaccine is a recom...   \n",
       "154590  BACKGROUND: The highly transmissible severe ac...   \n",
       "177620  BACKGROUND: The Ad26.COV2.S vaccine was highly...   \n",
       "\n",
       "                                                body_text publish_time  \\\n",
       "78167   Coronavirus disease 2019 caused by severe acut...   2021-02-01   \n",
       "263000  Leadership during the COVID-19 pandemic G loba...   2021-11-29   \n",
       "106702  Patients with Covid-19 pneumonia fulfilling Be...   2020-07-16   \n",
       "47352   Disparities in the USA based on race and ethni...   2021-11-08   \n",
       "123411  A number of countries have used digital contac...   2021-09-21   \n",
       "...                                                   ...          ...   \n",
       "77955   PROTOCOL SUMMARY\\nProtocol Number: mRNA-1273-P...   2021-09-22   \n",
       "311816  . OR Severe COVID- 19: ute at rest. . SpO2 2/F...   2021-12-15   \n",
       "219190  To evaluate the efficacy of Ad26.COV2.S in the...   2021-04-21   \n",
       "154590  1. To provide a 50 µg booster dose (BD) of mRN...   2022-01-25   \n",
       "177620  To evaluate the efficacy of Ad26.COV2.S in the...   2022-02-09   \n",
       "\n",
       "                                        doi  length_body  length_abstract  \\\n",
       "78167         10.1016/j.amjcard.2021.01.029         2458              252   \n",
       "263000  10.1097/01.numa.0000792016.93450.50         2458               25   \n",
       "106702           10.1186/s13613-020-00716-1         2458              262   \n",
       "47352            10.1007/s40615-021-01175-5         2458              275   \n",
       "123411           10.1186/s12199-021-01016-1         2458              268   \n",
       "...                                     ...          ...              ...   \n",
       "77955                 10.1056/nejmoa2113017        90515              372   \n",
       "311816                10.1056/nejmoa2116185       102150              348   \n",
       "219190                10.1056/nejmoa2101544       117531              357   \n",
       "154590          10.1101/2022.01.24.22269666       124062              255   \n",
       "177620                10.1056/nejmoa2117608       137082              361   \n",
       "\n",
       "        relatate_covid  relatate_pademic  relatate_infection  \\\n",
       "78167               22                 2                   8   \n",
       "263000              12                20                   3   \n",
       "106702              20                 0                   3   \n",
       "47352               24                 2                   3   \n",
       "123411              21                 3                   8   \n",
       "...                ...               ...                 ...   \n",
       "77955             1046                20                 261   \n",
       "311816             818                23                 137   \n",
       "219190            1252                 8                 362   \n",
       "154590             959                23                 270   \n",
       "177620            1362                18                 389   \n",
       "\n",
       "        sum_relatate_keyword  \n",
       "78167                     32  \n",
       "263000                    35  \n",
       "106702                    23  \n",
       "47352                     29  \n",
       "123411                    32  \n",
       "...                      ...  \n",
       "77955                   1327  \n",
       "311816                   978  \n",
       "219190                  1622  \n",
       "154590                  1252  \n",
       "177620                  1769  \n",
       "\n",
       "[84856 rows x 12 columns]"
      ]
     },
     "execution_count": 120,
     "metadata": {},
     "output_type": "execute_result"
    }
   ],
   "source": [
    "df_en_count_keywords_upadate1.sort_values('length_body')"
   ]
  },
  {
   "cell_type": "markdown",
   "metadata": {},
   "source": [
    "#### Lưu csv bản lọc cuối cùng"
   ]
  },
  {
   "cell_type": "code",
   "execution_count": 121,
   "metadata": {},
   "outputs": [],
   "source": [
    "df_en_count_keywords_upadate1.to_csv('./CSV/news_data_final.csv', index=False)"
   ]
  },
  {
   "cell_type": "markdown",
   "metadata": {},
   "source": [
    "# __4. Trực quan hoá dữ liệu__"
   ]
  },
  {
   "cell_type": "code",
   "execution_count": 3,
   "metadata": {},
   "outputs": [],
   "source": [
    "news_data = pd.read_csv('./CSV/news_data_final.csv')"
   ]
  },
  {
   "cell_type": "markdown",
   "metadata": {},
   "source": [
    "## 1. Tổng số bài báo liên quan đến covid theo năm\n",
    "- __Biểu đồ cột:__ Số lượng bài báo theo từng năm/tháng\n",
    "- __Ý nghĩa:__ Xu hướng xuất bản các bài báo về COVID-19 theo thời gian."
   ]
  },
  {
   "cell_type": "code",
   "execution_count": 4,
   "metadata": {},
   "outputs": [],
   "source": [
    "news_data['publish_time'] = pd.to_datetime(news_data['publish_time'], errors='coerce')"
   ]
  },
  {
   "cell_type": "code",
   "execution_count": 5,
   "metadata": {},
   "outputs": [
    {
     "data": {
      "text/plain": [
       "publish_time\n",
       "2019       14\n",
       "2020    23808\n",
       "2021    43917\n",
       "2022    17117\n",
       "Name: count, dtype: int64"
      ]
     },
     "execution_count": 5,
     "metadata": {},
     "output_type": "execute_result"
    }
   ],
   "source": [
    "papers_by_year = news_data['publish_time'].dt.year.value_counts().sort_index()\n",
    "papers_by_year"
   ]
  },
  {
   "cell_type": "code",
   "execution_count": 7,
   "metadata": {},
   "outputs": [
    {
     "data": {
      "image/png": "[encoded data removed]",
      "text/plain": [
       "<Figure size 1000x600 with 1 Axes>"
      ]
     },
     "metadata": {},
     "output_type": "display_data"
    }
   ],
   "source": [
    "plt.figure(figsize=(10, 6))\n",
    "papers_by_year.plot(kind='bar')\n",
    "plt.title('Só lượng bài báo về COVID-19 theo năm')\n",
    "plt.xlabel('Năm')\n",
    "plt.ylabel('Số lượng bài báo')\n",
    "plt.show()"
   ]
  },
  {
   "cell_type": "markdown",
   "metadata": {},
   "source": [
    "## 2. Phân tích tần suất từ khoá tổng thể\n",
    "- __Biểu đồ cột ngang:__ Tần suất xuất hiện của các từ khoá\n",
    "- __Ý nghĩa:__ Xác định từ khoá nào phổ biến trong bộ dữ liệu"
   ]
  },
  {
   "cell_type": "code",
   "execution_count": 10,
   "metadata": {},
   "outputs": [
    {
     "data": {
      "text/plain": [
       "relatate_covid        3908387\n",
       "relatate_pademic       893357\n",
       "relatate_infection    1626404\n",
       "dtype: int64"
      ]
     },
     "execution_count": 10,
     "metadata": {},
     "output_type": "execute_result"
    }
   ],
   "source": [
    "keywords = ['relatate_covid', 'relatate_pademic', 'relatate_infection']\n",
    "keyword_counts = news_data[keywords].sum()\n",
    "keyword_counts"
   ]
  },
  {
   "cell_type": "code",
   "execution_count": 11,
   "metadata": {},
   "outputs": [
    {
     "data": {
      "image/png": "[encoded data removed]",
      "text/plain": [
       "<Figure size 800x600 with 1 Axes>"
      ]
     },
     "metadata": {},
     "output_type": "display_data"
    }
   ],
   "source": [
    "plt.figure(figsize=(8, 6))\n",
    "keyword_counts.plot(kind='barh', color='skyblue')\n",
    "plt.title('Tần suất xuất hiện của các từ khoá về bài báo COVID')\n",
    "plt.xlabel('Số lần xuất hiện')\n",
    "plt.ylabel('Từ khoá')\n",
    "plt.show()"
   ]
  },
  {
   "cell_type": "markdown",
   "metadata": {},
   "source": [
    "## 3. Xu hướng từ khoá theo thời gian\n",
    "- __Biểu đồ đường:__ số lần xuất hiện của từng từ khoá theo thời gian.\n",
    "- __Ý nghĩa:__ Theo dõi mức đô quan tâm đến các từ khoá trong các giai đoạn khác nhau."
   ]
  },
  {
   "cell_type": "code",
   "execution_count": null,
   "metadata": {},
   "outputs": [
    {
     "data": {
      "image/png": "[encoded data removed]",
      "text/plain": [
       "<Figure size 1200x800 with 1 Axes>"
      ]
     },
     "metadata": {},
     "output_type": "display_data"
    }
   ],
   "source": [
    "keywords = ['relatate_covid', 'relatate_pademic', 'relatate_infection']\n",
    "\n",
    "news_data1 = news_data.copy()\n",
    "news_data1['year_month'] = news_data['publish_time'].dt.to_period('M')\n",
    "trend_by_month1 = news_data1.groupby(news_data1['year_month'])[keywords].sum()\n",
    "trend_by_month1.index = trend_by_month1.index.to_timestamp()\n",
    "\n",
    "plt.figure(figsize=(12, 8))\n",
    "for keyword in keywords:\n",
    "    plt.plot(trend_by_month1.index, trend_by_month1[keyword], label=keyword)\n",
    "\n",
    "plt.title('Xu hướng từ khoá về các bài báo theo tháng qua các năm')\n",
    "plt.xlabel('Thời gian (tháng)')\n",
    "plt.ylabel('Số lần xuất hiện')\n",
    "plt.legend()"
   ]
  },
  {
   "cell_type": "markdown",
   "metadata": {},
   "source": [
    "#### Thêm từ khoá mới - Các từ bên trong của chủ đề COVID"
   ]
  },
  {
   "cell_type": "code",
   "execution_count": 16,
   "metadata": {},
   "outputs": [
    {
     "name": "stderr",
     "output_type": "stream",
     "text": [
      "Counting keywords: 100%|██████████| 84856/84856 [03:09<00:00, 448.64it/s]  \n"
     ]
    }
   ],
   "source": [
    "new_keywords = ['fatality', 'fatalities', 'death', 'deaths', 'died', 'mortality', 'case', 'cases', 'confirmed case', 'positive case', 'diagnosed case', 'diagnosed cases', 'vaccine', 'vaccines', 'vaccination', 'vaccinations', 'vaccinated','variant', 'variants']\n",
    "news_data_new_keywords = news_data.copy()\n",
    "news_data_new_keywords = count_keywords_parallel(news_data_new_keywords, new_keywords)"
   ]
  },
  {
   "cell_type": "code",
   "execution_count": 17,
   "metadata": {},
   "outputs": [],
   "source": [
    "news_data_new_keywords['relate_case'] = news_data_new_keywords[['case', 'cases', 'confirmed case', 'positive case', 'diagnosed case', 'diagnosed cases']].sum(axis=1)\n",
    "news_data_new_keywords['relate_death'] = news_data_new_keywords[['fatality', 'fatalities', 'death', 'deaths', 'died', 'mortality']].sum(axis=1)\n",
    "news_data_new_keywords['relate_vaccine'] = news_data_new_keywords[['vaccine', 'vaccines', 'vaccination', 'vaccinations', 'vaccinated']].sum(axis=1)\n",
    "news_data_new_keywords['relate_variant'] = news_data_new_keywords[['variant', 'variants']].sum(axis=1)"
   ]
  },
  {
   "cell_type": "code",
   "execution_count": null,
   "metadata": {},
   "outputs": [],
   "source": [
    "news_data_new_keywords.drop(['doi', 'length_abstract', 'length_body',  'relatate_covid', 'relatate_pademic', 'relatate_infection', 'sum_relatate_keyword'], axis=1, inplace=True)\n",
    "news_data_new_keywords.drop([key for key in new_keywords], axis=1, inplace=True)"
   ]
  },
  {
   "cell_type": "code",
   "execution_count": 26,
   "metadata": {},
   "outputs": [],
   "source": [
    "news_data_new_keywords.to_csv('./CSV/addition_keyword_data.csv', index=False)"
   ]
  },
  {
   "cell_type": "code",
   "execution_count": 27,
   "metadata": {},
   "outputs": [
    {
     "data": {
      "image/png": "[encoded data removed]",
      "text/plain": [
       "<Figure size 1200x800 with 1 Axes>"
      ]
     },
     "metadata": {},
     "output_type": "display_data"
    }
   ],
   "source": [
    "keywords = ['relate_case', 'relate_death', 'relate_vaccine', 'relate_variant']\n",
    "news_data_new_keywords1 = news_data_new_keywords.copy()\n",
    "news_data_new_keywords1['year_month'] = news_data_new_keywords1['publish_time'].dt.to_period('M')\n",
    "trend_by_month_ = news_data_new_keywords1.groupby(news_data_new_keywords1['year_month'])[keywords].sum()\n",
    "trend_by_month_.index = trend_by_month_.index.to_timestamp()\n",
    "\n",
    "plt.figure(figsize=(12, 8))\n",
    "for keyword in keywords:\n",
    "    plt.plot(trend_by_month_.index, trend_by_month_[keyword], label=keyword)\n",
    "\n",
    "plt.title('Xu hướng từ khoá theo tháng qua các năm')\n",
    "plt.xlabel('Thời gian (tháng)')\n",
    "plt.ylabel('Số lần xuất hiện')\n",
    "plt.legend()\n",
    "plt.show()"
   ]
  },
  {
   "cell_type": "markdown",
   "metadata": {},
   "source": [
    "#### Các loại biến chủng covid"
   ]
  },
  {
   "cell_type": "code",
   "execution_count": 28,
   "metadata": {},
   "outputs": [
    {
     "name": "stderr",
     "output_type": "stream",
     "text": [
      "Counting keywords: 100%|██████████| 84856/84856 [02:38<00:00, 535.24it/s]  \n"
     ]
    }
   ],
   "source": [
    "covid_variant_keywords = ['alpha','beta','gamma','delta','omicron','epsilon','zeta','eta','theta','iota','kappa','lambda','mu']\n",
    "news_data_covid_variant_keywords = news_data.copy()\n",
    "news_data_covid_variant_keywords = count_keywords_parallel(news_data_covid_variant_keywords, covid_variant_keywords)"
   ]
  },
  {
   "cell_type": "code",
   "execution_count": 31,
   "metadata": {},
   "outputs": [],
   "source": [
    "news_data_covid_variant_keywords.to_csv('./CSV/variants_data.csv', index=False)"
   ]
  },
  {
   "cell_type": "code",
   "execution_count": 15,
   "metadata": {},
   "outputs": [
    {
     "data": {
      "image/png": "[encoded data removed]",
      "text/plain": [
       "<Figure size 800x600 with 1 Axes>"
      ]
     },
     "metadata": {},
     "output_type": "display_data"
    }
   ],
   "source": [
    "news_data_covid_variant_keyword_counts = news_data_covid_variant_keywords[covid_variant_keywords].sum()\n",
    "plt.figure(figsize=(8, 6))\n",
    "news_data_covid_variant_keyword_counts.plot(kind='barh', color='skyblue')\n",
    "plt.title('Tần suất xuất hiện của các từ khoá về biến chủng COVID')\n",
    "plt.xlabel('Số lần xuất hiện')\n",
    "plt.ylabel('Từ khoá')\n",
    "plt.show()"
   ]
  },
  {
   "cell_type": "code",
   "execution_count": 16,
   "metadata": {},
   "outputs": [
    {
     "data": {
      "image/png": "[encoded data removed]",
      "text/plain": [
       "<Figure size 1200x800 with 1 Axes>"
      ]
     },
     "metadata": {},
     "output_type": "display_data"
    }
   ],
   "source": [
    "covid_variant_keywords = ['alpha','beta','gamma','delta','omicron','epsilon','zeta','eta','theta','iota','kappa','lambda','mu']\n",
    "news_data_covid_variant_keywords1 = news_data_covid_variant_keywords.copy()\n",
    "news_data_covid_variant_keywords1['year_month'] = news_data_covid_variant_keywords1['publish_time'].dt.to_period('M')\n",
    "trend_by_month_ = news_data_covid_variant_keywords1.groupby(news_data_covid_variant_keywords1['year_month'])[covid_variant_keywords].sum()\n",
    "trend_by_month_.index = trend_by_month_.index.to_timestamp()\n",
    "\n",
    "plt.figure(figsize=(12, 8))\n",
    "for keyword in covid_variant_keywords:\n",
    "    plt.plot(trend_by_month_.index, trend_by_month_[keyword], label=keyword)\n",
    "\n",
    "plt.title('Xu hướng từ khoá về biến thể covid theo tháng qua các năm')\n",
    "plt.xlabel('Thời gian (tháng)')\n",
    "plt.ylabel('Số lần xuất hiện')\n",
    "plt.legend()\n",
    "plt.show()"
   ]
  }
 ],
 "metadata": {
  "kernelspec": {
   "display_name": "Python 3",
   "language": "python",
   "name": "python3"
  },
  "language_info": {
   "codemirror_mode": {
    "name": "ipython",
    "version": 3
   },
   "file_extension": ".py",
   "mimetype": "text/x-python",
   "name": "python",
   "nbconvert_exporter": "python",
   "pygments_lexer": "ipython3",
   "version": "3.12.8"
  }
 },
 "nbformat": 4,
 "nbformat_minor": 2
}
